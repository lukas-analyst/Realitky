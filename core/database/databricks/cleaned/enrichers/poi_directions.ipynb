{
 "cells": [
  {
   "cell_type": "markdown",
   "metadata": {
    "application/vnd.databricks.v1+cell": {
     "cellMetadata": {},
     "inputWidgets": {},
     "nuid": "4ba4da55-aed7-4815-a6ec-20e5b74cb370",
     "showTitle": false,
     "tableResultSettingsMap": {},
     "title": ""
    }
   },
   "source": [
    "## Notebook Configuration\n",
    "\n",
    "This section sets up interactive widgets for configuring the enrichment process. \n",
    "\n",
    "- OpenRouteService API key, \n",
    "- POI category (included as an variable from the INPUT parameter), \n",
    "- process ID ({{Job.Run_id}}), \n",
    "- number of properties to process (limited by 'test_mode' to 5, else 50 (beacuse API limits))\n",
    "- test mode (from the Config task)"
   ]
  },
  {
   "cell_type": "code",
   "execution_count": 0,
   "metadata": {
    "application/vnd.databricks.v1+cell": {
     "cellMetadata": {
      "byteLimit": 2048000,
      "rowLimit": 10000
     },
     "inputWidgets": {},
     "nuid": "363f6bf2-e214-4501-823b-c327803d3d20",
     "showTitle": false,
     "tableResultSettingsMap": {},
     "title": ""
    },
    "jupyter": {
     "outputs_hidden": true
    }
   },
   "outputs": [],
   "source": [
    "# Configuration widgets\n",
    "dbutils.widgets.text(\"api_key\", \"your_geoapify_api_key\", \"Geoapify API Key\")\n",
    "dbutils.widgets.text(\"direction_style\", \"foot-walking\", \"Direction Style\")\n",
    "dbutils.widgets.text(\"process_id\", \"POI_002\", \"Process ID\")\n",
    "dbutils.widgets.text(\"max_properties\", \"2\", \"Number of Records\")\n",
    "dbutils.widgets.dropdown(\"test_mode\", \"true\", [\"true\", \"false\"], \"Test Mode (limit to 50 records)\")\n",
    "\n",
    "# Get widget values\n",
    "api_key = dbutils.widgets.get(\"api_key\")\n",
    "direction_style = dbutils.widgets.get(\"direction_style\")\n",
    "process_id = dbutils.widgets.get(\"process_id\")\n",
    "max_properties = int(dbutils.widgets.get(\"max_properties\"))\n",
    "\n",
    "print(f\"Configuration:\")\n",
    "print(f\"- API Key: {'*' * (len(api_key) - 4) + api_key[-4:] if len(api_key) > 4 else 'NOT_SET'}\")\n",
    "print(f\"- Direction style: {direction_style}\")\n",
    "print(f\"- Process ID: {process_id}\")\n",
    "print(f\"- Number of properties: {max_properties}\")"
   ]
  },
  {
   "cell_type": "markdown",
   "metadata": {
    "application/vnd.databricks.v1+cell": {
     "cellMetadata": {},
     "inputWidgets": {},
     "nuid": "524f6546-1825-447b-82fb-ec076998f44d",
     "showTitle": false,
     "tableResultSettingsMap": {},
     "title": ""
    }
   },
   "source": [
    "### Select POIs\n",
    "\n",
    "This section retrieves the maximum number of POIs to fetch for the selected direction_style type of travel.\n",
    "\n",
    "The selection ensures only valid POIs (connected to property table) are included, and limits the number of records for efficient processing.\n",
    "\n"
   ]
  },
  {
   "cell_type": "code",
   "execution_count": 0,
   "metadata": {
    "application/vnd.databricks.v1+cell": {
     "cellMetadata": {
      "byteLimit": 2048000,
      "rowLimit": 10000
     },
     "inputWidgets": {},
     "nuid": "b582bdf7-7d6a-4ad4-876b-ef51bb94e471",
     "showTitle": false,
     "tableResultSettingsMap": {},
     "title": ""
    },
    "jupyter": {
     "outputs_hidden": true
    }
   },
   "outputs": [],
   "source": [
    "df_poi = spark.sql(f\"\"\"\n",
    "    SELECT \n",
    "        property_poi.property_id, \n",
    "        property_poi.poi_id, \n",
    "        property_poi.poi_longitude, \n",
    "        property_poi.poi_latitude,\n",
    "        property.address_longitude,\n",
    "        property.address_latitude\n",
    "    FROM realitky.cleaned.property_poi\n",
    "    INNER JOIN realitky.cleaned.property\n",
    "        ON property_poi.property_id = property.property_id\n",
    "        AND property.del_flag = FALSE\n",
    "    LIMIT {max_properties}\n",
    "\"\"\")\n",
    "display(df_poi)"
   ]
  },
  {
   "cell_type": "markdown",
   "metadata": {
    "application/vnd.databricks.v1+cell": {
     "cellMetadata": {},
     "inputWidgets": {},
     "nuid": "927a8d64-7c6c-4b05-983a-7a6aec77bfd8",
     "showTitle": false,
     "tableResultSettingsMap": {},
     "title": ""
    }
   },
   "source": [
    "### Download direction data from OpenRouteService API for each POI\n",
    "\n",
    "This block iterates over POI to find directions, calls the OpenRouteService Direction API, and collects the raw JSON responses for further processing."
   ]
  },
  {
   "cell_type": "code",
   "execution_count": 0,
   "metadata": {
    "application/vnd.databricks.v1+cell": {
     "cellMetadata": {
      "byteLimit": 2048000,
      "rowLimit": 10000
     },
     "inputWidgets": {},
     "nuid": "116fd204-2e74-4810-a07a-726bb6d52d7e",
     "showTitle": false,
     "tableResultSettingsMap": {},
     "title": ""
    },
    "jupyter": {
     "outputs_hidden": true
    }
   },
   "outputs": [],
   "source": [
    "import requests\n",
    "import time\n",
    "import json\n",
    "from datetime import datetime\n",
    "\n",
    "BASE_URL = f\"https://api.openrouteservice.org/v2/directions/{direction_style}\"\n",
    "\n",
    "all_poi_direction = []\n",
    "\n",
    "for row in df_poi.collect():\n",
    "    property_id = row['property_id']\n",
    "    poi_id = row['poi_id']\n",
    "    property_latitude = row['address_latitude']\n",
    "    property_longitude = row['address_longitude']\n",
    "    poi_latitude = row['poi_latitude']\n",
    "    poi_longitude = row['poi_longitude']\n",
    "\n",
    "    headers = {\n",
    "        'Accept': 'application/json, application/geo+json, application/gpx+xml, img/png; charset=utf-8',\n",
    "        'Authorization': api_key\n",
    "    }\n",
    "\n",
    "    params = {\n",
    "        'start': f'{property_longitude},{property_latitude}',\n",
    "        'end': f'{poi_longitude},{poi_latitude}',\n",
    "        'apiKey': api_key\n",
    "    }\n",
    "    try:\n",
    "        response = requests.get(BASE_URL, params=params, headers=headers)\n",
    "        response.raise_for_status()\n",
    "        poi_direction_data = response.json()\n",
    "        all_poi_direction.append({\n",
    "            \"property_id\": property_id,\n",
    "            \"poi_id\": poi_id,\n",
    "            \"direction_style\": direction_style,\n",
    "            \"poi_direction_raw_response\": json.dumps(poi_direction_data, ensure_ascii=False) \n",
    "        })\n",
    "        time.sleep(0.1)\n",
    "    except requests.exceptions.Timeout as e:\n",
    "        print(f\"TIMEOUT for property '{property_id}' ({property_latitude},{property_longitude}) while searching for POI '{poi_id}' located at ({poi_latitude}, {poi_longitude})\")\n",
    "        continue\n",
    "    except requests.exceptions.HTTPError as e:\n",
    "        print(f\"HTTPError for property '{property_id}' ({property_latitude},{property_longitude}) while searching for POI '{poi_id}' located at ({poi_latitude}, {poi_longitude})\")\n",
    "        print(f\"Error: {e}\\nStatus: {getattr(e.response, 'status_code', None)}\")\n",
    "        if e.response is not None and e.response.status_code == 400:\n",
    "            print(f\"Bad request for property '{property_id}' ({property_latitude},{property_longitude}) while searching for POI '{poi_id}' located at ({poi_latitude}, {poi_longitude})\")\n",
    "        continue\n",
    "    except Exception as e:\n",
    "        print(f\"Error for property '{property_id}' ({property_latitude},{property_longitude}) while searching for POI '{poi_id}' located at ({poi_latitude}, {poi_longitude}):\")\n",
    "        print(f\"Error: {e}\")\n",
    "        continue\n",
    "\n",
    "df_all_poi_direction = spark.createDataFrame(all_poi_direction)\n",
    "display(df_all_poi_direction)"
   ]
  },
  {
   "cell_type": "markdown",
   "metadata": {
    "application/vnd.databricks.v1+cell": {
     "cellMetadata": {},
     "inputWidgets": {},
     "nuid": "da53217c-175f-4ba4-80c7-36d78f6b3d13",
     "showTitle": false,
     "tableResultSettingsMap": {},
     "title": ""
    }
   },
   "source": [
    "### POI Data Cleaning and Transformation\n",
    "This step processes the raw POI (Point of Interest) directions by:\n",
    "- Inferring the JSON schema from a sample row.\n",
    "- Parsing the `poi_direction_raw_response` JSON and exploding the features array.\n",
    "- Extracting relevant POI fields such \"distance\" and \"duration\".\n",
    "- Generating additional metadata columns."
   ]
  },
  {
   "cell_type": "code",
   "execution_count": 0,
   "metadata": {
    "application/vnd.databricks.v1+cell": {
     "cellMetadata": {
      "byteLimit": 2048000,
      "rowLimit": 10000
     },
     "inputWidgets": {},
     "nuid": "3e323c4d-8cc6-4d1d-b2b4-c72dde8ad7c4",
     "showTitle": false,
     "tableResultSettingsMap": {},
     "title": ""
    },
    "jupyter": {
     "outputs_hidden": true
    }
   },
   "outputs": [],
   "source": [
    "# --- Parse OpenRouteService response and extract distance/duration using PySpark only (with direction_style-specific columns) ---\n",
    "from pyspark.sql import Row\n",
    "import json\n",
    "\n",
    "# Defensive: handle empty input\n",
    "if all_poi_direction:\n",
    "    rows = []\n",
    "    all_cols = set(['property_id', 'poi_id'])\n",
    "    for row in all_poi_direction:\n",
    "        property_id = row['property_id']\n",
    "        poi_id = row['poi_id']\n",
    "        direction_style = row.get('direction_style', '')\n",
    "        try:\n",
    "            data = json.loads(row['poi_direction_raw_response'])\n",
    "            features = data.get('features', [])\n",
    "            if features and 'properties' in features[0]:\n",
    "                segments = features[0]['properties'].get('segments', [])\n",
    "                if segments:\n",
    "                    distance_m = segments[0].get('distance')\n",
    "                    duration_min = segments[0].get('duration') / 60 if segments[0].get('duration') is not None else None\n",
    "                    distance_m = round(distance_m, 2) if distance_m is not None else None\n",
    "                    duration_min = round(duration_min, 2) if duration_min is not None else None\n",
    "        except Exception:\n",
    "            distance_m = None\n",
    "            duration_min = None\n",
    "\n",
    "        row_dict = {'property_id': property_id, 'poi_id': poi_id, 'distance_m': distance_m, 'duration_min': duration_min}\n",
    "        all_cols.update(row_dict.keys())\n",
    "        rows.append(Row(**row_dict))\n",
    "        print(rows)\n",
    "\n",
    "    # Create DataFrame, fill missing columns with None\n",
    "    df_distance = spark.createDataFrame(rows)\n",
    "    for c in all_cols:\n",
    "        if c not in df_distance.columns:\n",
    "            df_distance = df_distance.withColumn(c, lit(None))\n",
    "\n",
    "    from pyspark.sql.functions import current_timestamp, lit\n",
    "    df_distance = df_distance.withColumn('upd_dt', current_timestamp()) \\\n",
    "                                   .withColumn('upd_process_id', lit(process_id))\n",
    "    display(df_distance)\n",
    "else:\n",
    "    print('No POI direction data found')"
   ]
  },
  {
   "cell_type": "markdown",
   "metadata": {
    "application/vnd.databricks.v1+cell": {
     "cellMetadata": {},
     "inputWidgets": {},
     "nuid": "6f92a306-aefd-4302-a774-d9345ab1daa6",
     "showTitle": false,
     "tableResultSettingsMap": {},
     "title": ""
    }
   },
   "source": [
    "### Writing POI directions to the property_poi table\n",
    "\n",
    "This step saves the processed POI directions to the `realitky.cleaned.property_poi` table."
   ]
  },
  {
   "cell_type": "code",
   "execution_count": 0,
   "metadata": {
    "application/vnd.databricks.v1+cell": {
     "cellMetadata": {
      "byteLimit": 2048000,
      "rowLimit": 10000
     },
     "inputWidgets": {},
     "nuid": "312976be-a7d6-4b58-8c66-fbfc76e15ab7",
     "showTitle": false,
     "tableResultSettingsMap": {},
     "title": ""
    },
    "jupyter": {
     "outputs_hidden": true
    }
   },
   "outputs": [],
   "source": [
    "if all_poi_direction: \n",
    "\n",
    "    # Set column names based on direction_style\n",
    "    if direction_style == 'foot-walking':\n",
    "        col_dist = 'poi_distance_walk_m'\n",
    "        col_time = 'poi_distance_walk_min'\n",
    "    elif direction_style == 'driving-car':\n",
    "        col_dist = 'poi_distance_drive_m'\n",
    "        col_time = 'poi_distance_drive_min'\n",
    "    elif direction_style == 'public-transport':\n",
    "        col_dist = 'poi_distance_public_transport_m'\n",
    "        col_time = 'poi_distance_public_transport_min'\n",
    "        \n",
    "    df_distance.createOrReplaceTempView(\"tmp_poi_direction\")\n",
    "    spark.sql(f\"\"\"\n",
    "        MERGE INTO realitky.cleaned.property_poi AS target\n",
    "        USING tmp_poi_direction AS source\n",
    "        ON target.property_id = source.property_id\n",
    "            AND target.poi_id = source.poi_id\n",
    "        WHEN MATCHED \n",
    "            AND target.{col_dist} <> source.distance_m\n",
    "            AND target.{col_time} <> source.duration_min\n",
    "        THEN UPDATE SET\n",
    "            target.{col_dist} = source.distance_m,\n",
    "            target.{col_time} = source.duration_min,\n",
    "            target.upd_dt = source.upd_dt,\n",
    "            target.upd_process_id = source.upd_process_id\n",
    "    \"\"\")\n",
    "    print(\"POI direction data successfully merged\")\n",
    "else:\n",
    "    print('No POI direction data found')"
   ]
  }
 ],
 "metadata": {
  "application/vnd.databricks.v1+notebook": {
   "computePreferences": null,
   "dashboards": [],
   "environmentMetadata": {
    "base_environment": "",
    "environment_version": "2"
   },
   "inputWidgetPreferences": null,
   "language": "python",
   "notebookMetadata": {
    "pythonIndentUnit": 4
   },
   "notebookName": "poi_directions",
   "widgets": {
    "api_key": {
     "currentValue": "eyJvcmciOiI1YjNjZTM1OTc4NTExMTAwMDFjZjYyNDgiLCJpZCI6IjM0ZWFhNmZmOWQxNjRiODI5OWY4OGU2NmNlOWZjZjFjIiwiaCI6Im11cm11cjY0In0=",
     "nuid": "7ff49aab-f47e-478e-b139-f7e0a2ef6d95",
     "typedWidgetInfo": {
      "autoCreated": false,
      "defaultValue": "your_geoapify_api_key",
      "label": "Geoapify API Key",
      "name": "api_key",
      "options": {
       "validationRegex": null,
       "widgetDisplayType": "Text"
      },
      "parameterDataType": "String"
     },
     "widgetInfo": {
      "defaultValue": "your_geoapify_api_key",
      "label": "Geoapify API Key",
      "name": "api_key",
      "options": {
       "autoCreated": null,
       "validationRegex": null,
       "widgetType": "text"
      },
      "widgetType": "text"
     }
    },
    "category_key": {
     "currentValue": "1",
     "nuid": "938fe308-6ba5-4d33-bb5f-9a4690e08027",
     "typedWidgetInfo": {
      "autoCreated": false,
      "defaultValue": "1",
      "label": "category_key",
      "name": "category_key",
      "options": {
       "validationRegex": null,
       "widgetDisplayType": "Text"
      },
      "parameterDataType": "String"
     },
     "widgetInfo": {
      "defaultValue": "1",
      "label": "category_key",
      "name": "category_key",
      "options": {
       "autoCreated": null,
       "validationRegex": null,
       "widgetType": "text"
      },
      "widgetType": "text"
     }
    },
    "direction_style": {
     "currentValue": "foot-walking",
     "nuid": "472952ea-4dcf-4a72-864b-07c1aba6654f",
     "typedWidgetInfo": {
      "autoCreated": false,
      "defaultValue": "foot-walking",
      "label": "Direction Style",
      "name": "direction_style",
      "options": {
       "validationRegex": null,
       "widgetDisplayType": "Text"
      },
      "parameterDataType": "String"
     },
     "widgetInfo": {
      "defaultValue": "foot-walking",
      "label": "Direction Style",
      "name": "direction_style",
      "options": {
       "autoCreated": null,
       "validationRegex": null,
       "widgetType": "text"
      },
      "widgetType": "text"
     }
    },
    "max_properties": {
     "currentValue": "2",
     "nuid": "90410c95-6394-4a25-b45f-b9768172d55c",
     "typedWidgetInfo": {
      "autoCreated": false,
      "defaultValue": "2",
      "label": "Number of Records",
      "name": "max_properties",
      "options": {
       "validationRegex": null,
       "widgetDisplayType": "Text"
      },
      "parameterDataType": "String"
     },
     "widgetInfo": {
      "defaultValue": "2",
      "label": "Number of Records",
      "name": "max_properties",
      "options": {
       "autoCreated": null,
       "validationRegex": null,
       "widgetType": "text"
      },
      "widgetType": "text"
     }
    },
    "process_id": {
     "currentValue": "POI_002",
     "nuid": "8b93fed4-2feb-4e9b-a965-af00317df0f1",
     "typedWidgetInfo": {
      "autoCreated": false,
      "defaultValue": "POI_002",
      "label": "Process ID",
      "name": "process_id",
      "options": {
       "validationRegex": null,
       "widgetDisplayType": "Text"
      },
      "parameterDataType": "String"
     },
     "widgetInfo": {
      "defaultValue": "POI_002",
      "label": "Process ID",
      "name": "process_id",
      "options": {
       "autoCreated": null,
       "validationRegex": null,
       "widgetType": "text"
      },
      "widgetType": "text"
     }
    },
    "test_mode": {
     "currentValue": "true",
     "nuid": "cc56d807-52a6-41f5-9a1d-7e75e647254b",
     "typedWidgetInfo": {
      "autoCreated": false,
      "defaultValue": "true",
      "label": "Test Mode (limit to 50 records)",
      "name": "test_mode",
      "options": {
       "choices": [
        "true",
        "false"
       ],
       "fixedDomain": true,
       "multiselect": false,
       "widgetDisplayType": "Dropdown"
      },
      "parameterDataType": "String"
     },
     "widgetInfo": {
      "defaultValue": "true",
      "label": "Test Mode (limit to 50 records)",
      "name": "test_mode",
      "options": {
       "autoCreated": null,
       "choices": [
        "true",
        "false"
       ],
       "widgetType": "dropdown"
      },
      "widgetType": "dropdown"
     }
    }
   }
  },
  "language_info": {
   "name": "python"
  }
 },
 "nbformat": 4,
 "nbformat_minor": 0
}
