{
 "cells": [
  {
   "cell_type": "code",
   "execution_count": null,
   "id": "835aa902",
   "metadata": {},
   "outputs": [],
   "source": [
    "dbutils.widgets.text(\"process_id\", \"3C\", \"Process ID\")\n",
    "dbutils.widgets.text(\"cleaner\",\"ulovdomov\", \"Cleaner\")\n",
    "\n",
    "process_id = dbutils.widgets.get(\"process_id\")\n",
    "cleaner = dbutils.widgets.get(\"cleaner\")\n",
    "\n",
    "source_table = f\"realitky.raw.listing_images_{cleaner}\"\n",
    "target_table = \"realitky.cleaned.property_image\""
   ]
  },
  {
   "cell_type": "code",
   "execution_count": null,
   "id": "84962f0c",
   "metadata": {},
   "outputs": [],
   "source": [
    "query = f\"\"\"\n",
    "    MERGE INTO {target_table} AS target\n",
    "    USING (\n",
    "        SELECT \n",
    "            src.listing_id AS property_id, \n",
    "            src.img_link AS img_link,\n",
    "            src.img_number AS img_number,\n",
    "            '{cleaner}' AS src_web,\n",
    "            src.ins_dt AS original_ins_dt,\n",
    "            current_timestamp() AS ins_dt,\n",
    "            '{process_id}' AS ins_process_id,\n",
    "            current_timestamp() AS upd_dt,\n",
    "            '{process_id}' AS upd_process_id,\n",
    "            false AS del_flag\n",
    "        FROM {source_table} AS src\n",
    "        WHERE \n",
    "            src.img_link IS NOT NULL \n",
    "            AND src.del_flag = FALSE \n",
    "    ) AS source\n",
    "    ON target.property_id = source.property_id \n",
    "    AND target.img_link = source.img_link \n",
    "    AND target.src_web = source.src_web\n",
    "\n",
    "    WHEN NOT MATCHED THEN\n",
    "        INSERT (\n",
    "            property_id,\n",
    "            img_link,\n",
    "            img_number,\n",
    "            src_web,\n",
    "            ins_dt,\n",
    "            ins_process_id,\n",
    "            upd_dt,\n",
    "            upd_process_id,\n",
    "            del_flag\n",
    "        )\n",
    "        VALUES (\n",
    "            source.property_id,\n",
    "            source.img_link,\n",
    "            source.img_number,\n",
    "            source.src_web,\n",
    "            source.ins_dt,\n",
    "            source.ins_process_id,\n",
    "            source.upd_dt,\n",
    "            source.upd_process_id,\n",
    "            source.del_flag\n",
    "        )\n",
    "\"\"\"\n",
    "\n",
    "result = spark.sql(query)\n",
    "display(result)"
   ]
  }
 ],
 "metadata": {
  "language_info": {
   "name": "python"
  }
 },
 "nbformat": 4,
 "nbformat_minor": 5
}
