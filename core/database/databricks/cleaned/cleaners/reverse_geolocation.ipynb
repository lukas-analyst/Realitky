{
 "cells": [
  {
   "cell_type": "markdown",
   "metadata": {
    "application/vnd.databricks.v1+cell": {
     "cellMetadata": {},
     "inputWidgets": {},
     "nuid": "c0872f49-f8c5-4f2a-9118-1e7b8ecef110",
     "showTitle": false,
     "tableResultSettingsMap": {},
     "title": ""
    }
   },
   "source": [
    "## Notebook Configuration\n",
    "\n",
    "This section sets up interactive widgets for configuring the geolocation process. \n",
    "\n",
    "- process ID ({{Job.Run_id}}), \n",
    "- scraper name (the source web of listings to be located)"
   ]
  },
  {
   "cell_type": "code",
   "execution_count": 0,
   "metadata": {
    "application/vnd.databricks.v1+cell": {
     "cellMetadata": {
      "byteLimit": 2048000,
      "rowLimit": 10000
     },
     "inputWidgets": {},
     "nuid": "d963be65-6699-4ab2-9212-9e51f485ef50",
     "showTitle": false,
     "tableResultSettingsMap": {},
     "title": ""
    },
    "jupyter": {
     "outputs_hidden": true
    }
   },
   "outputs": [],
   "source": [
    "%pip install nbformat>=5.1.0"
   ]
  },
  {
   "cell_type": "code",
   "execution_count": 0,
   "metadata": {
    "application/vnd.databricks.v1+cell": {
     "cellMetadata": {
      "byteLimit": 2048000,
      "rowLimit": 10000
     },
     "inputWidgets": {},
     "nuid": "0e1540e8-2338-4e94-8a38-ceb004f606a9",
     "showTitle": false,
     "tableResultSettingsMap": {},
     "title": ""
    },
    "jupyter": {
     "outputs_hidden": true
    }
   },
   "outputs": [],
   "source": [
    "dbutils.widgets.text(\"process_id\", \"3C\", \"Process ID\")\n",
    "dbutils.widgets.text(\"scrapers\",\"'bidli','idnes','remax','ulovdomov'\", \"Scraper list\")\n",
    "\n",
    "process_id = dbutils.widgets.get(\"process_id\")\n",
    "scraper = dbutils.widgets.get(\"scrapers\")\n",
    "\n",
    "print(scraper)"
   ]
  },
  {
   "cell_type": "markdown",
   "metadata": {
    "application/vnd.databricks.v1+cell": {
     "cellMetadata": {},
     "inputWidgets": {},
     "nuid": "37b1a574-a281-481d-9ef6-3c920b9fd547",
     "showTitle": false,
     "tableResultSettingsMap": {},
     "title": ""
    }
   },
   "source": [
    "#### Defining GPS (latitude/longitude) parser\n",
    "- \"49.123456,16.654321\" - _standard format_\n",
    "- \"49°12'34\\\"N,16°39'15\\\"E\" - _DMS format_\n",
    "- \"[16.67782877304817, 49.18383426696714]\" - _JSON array_\n",
    "- \"[[lat,lon],[lat,lon],...]\" - _array of coordinates (get the first one)_\n",
    "\n"
   ]
  },
  {
   "cell_type": "code",
   "execution_count": 0,
   "metadata": {
    "application/vnd.databricks.v1+cell": {
     "cellMetadata": {
      "byteLimit": 2048000,
      "rowLimit": 10000
     },
     "inputWidgets": {},
     "nuid": "1a91005b-7d54-410f-8b34-a6edb88b0446",
     "showTitle": false,
     "tableResultSettingsMap": {},
     "title": ""
    },
    "jupyter": {
     "outputs_hidden": true
    }
   },
   "outputs": [],
   "source": [
    "from pyspark.sql.types import StructType, StructField, StringType\n",
    "import requests\n",
    "import re\n",
    "import sys\n",
    "import json\n",
    "%run \"../Scrapers/utils/scraper_statistics_update.ipynb\"\n",
    "%run \"../Scrapers/utils/listings_update.ipynb\"\n",
    "\n",
    "# Define the schema for the DataFrame\n",
    "schema = StructType([\n",
    "    StructField(\"listing_id\", StringType(), True),\n",
    "    StructField(\"gps_coordinates\", StringType(), True),\n",
    "    StructField(\"street\", StringType(), True),\n",
    "    StructField(\"house_number\", StringType(), True),\n",
    "    StructField(\"city\", StringType(), True),\n",
    "    StructField(\"postcode\", StringType(), True),\n",
    "    StructField(\"state\", StringType(), True),\n",
    "    StructField(\"country\", StringType(), True),\n",
    "    StructField(\"lat\", StringType(), True),\n",
    "    StructField(\"lon\", StringType(), True)\n",
    "])\n",
    "\n",
    "def parse_coordinates(gps_coordinates):\n",
    "    try:\n",
    "        if not gps_coordinates or gps_coordinates.strip().lower() == \"none\":\n",
    "            return None, None\n",
    "\n",
    "        # If it contains '[', it is a JSON format\n",
    "        if '[' in gps_coordinates:\n",
    "            coords_data = json.loads(gps_coordinates)\n",
    "            \n",
    "            # If it is an array of arrays - take the first coordinates\n",
    "            if isinstance(coords_data[0], list):\n",
    "                lat, lon = coords_data[0][:2]  # Take the first pair of coordinates\n",
    "            else:\n",
    "                # Simple array [lon, lat] or [lat, lon]\n",
    "                lat, lon = coords_data[:2]\n",
    "            \n",
    "            # Check that the coordinates are within reasonable bounds\n",
    "            # Lon is usually first in OpenStreetMap format [lon, lat]\n",
    "            if abs(lat) > 90 or abs(lon) > 180:\n",
    "                # Swap if it looks like [lon, lat] instead of [lat, lon]\n",
    "                lat, lon = lon, lat\n",
    "                \n",
    "            return float(lat), float(lon)\n",
    "            \n",
    "        # DMS format\n",
    "        dms_pattern = r\"\"\"(\\d+)[°\\s]+(\\d+)[\\'\\s]+([\\d\\.]+)[\"]?\\s*([NS]),\\s*\n",
    "                          (\\d+)[°\\s]+(\\d+)[\\'\\s]+([\\d\\.]+)[\"]?\\s*([EW])\"\"\"\n",
    "        match = re.match(dms_pattern, gps_coordinates.replace(\"’\", \"'\").replace(\"”\", \"\\\"\"), re.VERBOSE)\n",
    "        if match:\n",
    "            lat_deg, lat_min, lat_sec, lat_dir, lon_deg, lon_min, lon_sec, lon_dir = match.groups()\n",
    "            lat = float(lat_deg) + float(lat_min)/60 + float(lat_sec)/3600\n",
    "            lon = float(lon_deg) + float(lon_min)/60 + float(lon_sec)/3600\n",
    "            if lat_dir == 'S':\n",
    "                lat = -lat\n",
    "            if lon_dir == 'W':\n",
    "                lon = -lon\n",
    "            return lat, lon\n",
    "            \n",
    "        # Standard format \"lat,lon\"\n",
    "        else:\n",
    "            lat, lon = map(float, gps_coordinates.split(\",\"))\n",
    "            return lat, lon\n",
    "            \n",
    "    except (json.JSONDecodeError, ValueError, IndexError) as e:\n",
    "        print(f\"Error parsing GPS coordinates '{gps_coordinates}': {e}\")\n",
    "        return None, None"
   ]
  },
  {
   "cell_type": "markdown",
   "metadata": {
    "application/vnd.databricks.v1+cell": {
     "cellMetadata": {},
     "inputWidgets": {},
     "nuid": "a3925281-f59e-4401-91e4-6eb05180aa1d",
     "showTitle": false,
     "tableResultSettingsMap": {},
     "title": ""
    }
   },
   "source": [
    "### Defining Nominatim.OpenStreetMap API call\n"
   ]
  },
  {
   "cell_type": "code",
   "execution_count": 0,
   "metadata": {
    "application/vnd.databricks.v1+cell": {
     "cellMetadata": {
      "byteLimit": 2048000,
      "rowLimit": 10000
     },
     "inputWidgets": {},
     "nuid": "2b8aed4b-cc6d-47dc-ac14-1a859bcac353",
     "showTitle": false,
     "tableResultSettingsMap": {},
     "title": ""
    }
   },
   "outputs": [],
   "source": [
    "def reverse_geocode(lat, lon):\n",
    "    url = \"https://nominatim.openstreetmap.org/reverse\"\n",
    "    params = {\"lat\": lat, \"lon\": lon, \"format\": \"json\", \"addressdetails\": 1, \"zoom\": 18}\n",
    "    headers = {\"User-Agent\": \"realitky-bot\"}\n",
    "    resp = requests.get(url, params=params, headers=headers)\n",
    "    if resp.status_code == 200:\n",
    "        address = resp.json().get(\"address\", {})\n",
    "        return {\n",
    "            \"street\": address.get(\"road\"),\n",
    "            \"house_number\": address.get(\"house_number\"),\n",
    "            \"city\": address.get(\"city\") or address.get(\"town\") or address.get(\"village\"),\n",
    "            \"postcode\": address.get(\"postcode\"),\n",
    "            \"state\": address.get(\"state\"),\n",
    "            \"country\": address.get(\"country\"),\n",
    "            \"lat\": lat,\n",
    "            \"lon\": lon\n",
    "        }\n",
    "    return None"
   ]
  },
  {
   "cell_type": "markdown",
   "metadata": {
    "application/vnd.databricks.v1+cell": {
     "cellMetadata": {},
     "inputWidgets": {},
     "nuid": "5704043f-1a54-43f1-b0e1-eaef4b2d1b84",
     "showTitle": false,
     "tableResultSettingsMap": {},
     "title": ""
    }
   },
   "source": [
    "### Get listings to be located"
   ]
  },
  {
   "cell_type": "code",
   "execution_count": 0,
   "metadata": {
    "application/vnd.databricks.v1+cell": {
     "cellMetadata": {
      "byteLimit": 2048000,
      "rowLimit": 10000
     },
     "inputWidgets": {},
     "nuid": "77c9226d-b2a2-4b16-aec6-4db4b61b7b48",
     "showTitle": false,
     "tableResultSettingsMap": {},
     "title": ""
    }
   },
   "outputs": [],
   "source": [
    "# for each do a reverse geocode\n",
    "listing_ids_table_name = f\"realitky.raw.listings_{scraper}\"\n",
    "listing_details_table_name = f\"realitky.raw.listing_details_{scraper}\"\n",
    "\n",
    "listings_to_be_located = spark.sql(f\"\"\"\n",
    "    SELECT \n",
    "        ldt.listing_id, \n",
    "        ldt.gps_coordinates \n",
    "    FROM {listing_details_table_name} ldt\n",
    "        JOIN {listing_ids_table_name} lst\n",
    "            ON ldt.listing_id = lst.listing_id \n",
    "            and lst.parsed = true\n",
    "            AND lst.located = false \n",
    "            AND lst.del_flag = false \n",
    "    WHERE\n",
    "            ldt.gps_coordinates IS NOT null\n",
    "            AND ldt.gps_coordinates NOT LIKE '%[%'\n",
    "            AND ldt.del_flag = false\n",
    "\"\"\")\n",
    "\n",
    "display(listings_to_be_located)"
   ]
  },
  {
   "cell_type": "markdown",
   "metadata": {
    "application/vnd.databricks.v1+cell": {
     "cellMetadata": {},
     "inputWidgets": {},
     "nuid": "8f8c5e52-c268-4423-a61b-5ff5a0463fb3",
     "showTitle": false,
     "tableResultSettingsMap": {},
     "title": ""
    }
   },
   "source": [
    "### Call the reverse_geolocation API and get response"
   ]
  },
  {
   "cell_type": "code",
   "execution_count": 0,
   "metadata": {
    "application/vnd.databricks.v1+cell": {
     "cellMetadata": {
      "byteLimit": 2048000,
      "rowLimit": 10000
     },
     "inputWidgets": {},
     "nuid": "ba83a108-9310-4ddb-a6eb-e3d27ec92b89",
     "showTitle": false,
     "tableResultSettingsMap": {},
     "title": ""
    }
   },
   "outputs": [],
   "source": [
    "results = []\n",
    "for row in listings_to_be_located.collect():\n",
    "    lat, lon = parse_coordinates(row.gps_coordinates)\n",
    "\n",
    "    # Skip listings with invalid coordinates\n",
    "    if lat is None or lon is None:\n",
    "        continue\n",
    "        \n",
    "    address = reverse_geocode(lat, lon)\n",
    "    if address:\n",
    "        results.append({\n",
    "            \"listing_id\": row.listing_id,\n",
    "            \"gps_coordinates\": row.gps_coordinates,\n",
    "            \"street\": address.get(\"street\") or 'XNA',\n",
    "            \"house_number\": address.get(\"house_number\") or 'XNA',\n",
    "            \"city\": address.get(\"city\") or 'XNA',\n",
    "            \"postcode\": address.get(\"postcode\") or 'XNA',\n",
    "            \"state\": address.get(\"state\") or 'XNA',\n",
    "            \"country\": address.get(\"country\") or 'XNA',\n",
    "            \"lat\": lat,\n",
    "            \"lon\": lon\n",
    "        })\n",
    "listings_located = spark.createDataFrame(results, schema)\n",
    "listings_located.createOrReplaceTempView(\"listing_ids_view\")\n",
    "\n",
    "display(listings_located)"
   ]
  },
  {
   "cell_type": "markdown",
   "metadata": {
    "application/vnd.databricks.v1+cell": {
     "cellMetadata": {},
     "inputWidgets": {},
     "nuid": "18b9e765-abce-454a-bae6-2d45e4c0d027",
     "showTitle": false,
     "tableResultSettingsMap": {},
     "title": ""
    }
   },
   "source": [
    "### Insert located data into a target table 'property'"
   ]
  },
  {
   "cell_type": "code",
   "execution_count": 0,
   "metadata": {
    "application/vnd.databricks.v1+cell": {
     "cellMetadata": {},
     "inputWidgets": {},
     "nuid": "975314aa-204e-485c-852e-bb246f01d1a2",
     "showTitle": false,
     "tableResultSettingsMap": {},
     "title": ""
    }
   },
   "outputs": [],
   "source": [
    "spark.sql(f\"\"\"\n",
    "    MERGE INTO realitky.cleaned.property AS target\n",
    "    USING listing_ids_view AS source\n",
    "        ON target.property_id = source.listing_id\n",
    "        AND target.src_web = '{scraper}'\n",
    "    WHEN MATCHED \n",
    "        AND target.src_web = '{scraper}' -- partitioning\n",
    "    THEN\n",
    "    UPDATE SET\n",
    "        target.address_street = source.street,\n",
    "        target.address_house_number = source.house_number,\n",
    "        target.address_city = source.city,\n",
    "        target.address_postal_code = source.postcode,\n",
    "        target.address_state = source.country,\n",
    "        target.address_latitude = source.lat,\n",
    "        target.address_longitude = source.lon,\n",
    "        target.upd_dt = CURRENT_TIMESTAMP,\n",
    "        target.upd_process_id = '{process_id}'\n",
    "\"\"\")\n",
    "\n",
    "results_located = len(results)\n",
    "\n",
    "update_stats(scraper, 'located', results_located, process_id)\n",
    "update_listings(listing_ids_table_name, 'located', process_id)"
   ]
  }
 ],
 "metadata": {
  "application/vnd.databricks.v1+notebook": {
   "computePreferences": null,
   "dashboards": [],
   "environmentMetadata": {
    "base_environment": "",
    "environment_version": "2"
   },
   "inputWidgetPreferences": null,
   "language": "python",
   "notebookMetadata": {
    "pythonIndentUnit": 4
   },
   "notebookName": "reverse_geolocation",
   "widgets": {
    "process_id": {
     "currentValue": "3C",
     "nuid": "e3a326c7-81b2-4662-a75a-54bfe4ccd083",
     "typedWidgetInfo": {
      "autoCreated": false,
      "defaultValue": "3C",
      "label": "Process ID",
      "name": "process_id",
      "options": {
       "validationRegex": null,
       "widgetDisplayType": "Text"
      },
      "parameterDataType": "String"
     },
     "widgetInfo": {
      "defaultValue": "3C",
      "label": "Process ID",
      "name": "process_id",
      "options": {
       "autoCreated": null,
       "validationRegex": null,
       "widgetType": "text"
      },
      "widgetType": "text"
     }
    },
    "scrapers": {
     "currentValue": "remax",
     "nuid": "7e516734-2889-48cc-a1b7-fffaef6a275f",
     "typedWidgetInfo": {
      "autoCreated": false,
      "defaultValue": "'bidli','idnes','remax','ulovdomov'",
      "label": "Scraper list",
      "name": "scrapers",
      "options": {
       "validationRegex": null,
       "widgetDisplayType": "Text"
      },
      "parameterDataType": "String"
     },
     "widgetInfo": {
      "defaultValue": "'bidli','idnes','remax','ulovdomov'",
      "label": "Scraper list",
      "name": "scrapers",
      "options": {
       "autoCreated": null,
       "validationRegex": null,
       "widgetType": "text"
      },
      "widgetType": "text"
     }
    }
   }
  },
  "language_info": {
   "name": "python"
  }
 },
 "nbformat": 4,
 "nbformat_minor": 0
}
