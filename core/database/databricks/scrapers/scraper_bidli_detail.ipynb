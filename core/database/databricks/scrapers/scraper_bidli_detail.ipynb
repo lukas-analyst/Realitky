{
 "cells": [
  {
   "cell_type": "markdown",
   "metadata": {
    "application/vnd.databricks.v1+cell": {
     "cellMetadata": {},
     "inputWidgets": {},
     "nuid": "5b4d88d7-13a7-4877-8982-004a59b39b21",
     "showTitle": false,
     "tableResultSettingsMap": {},
     "title": ""
    }
   },
   "source": [
    "### Prepare environment"
   ]
  },
  {
   "cell_type": "code",
   "execution_count": 0,
   "metadata": {
    "application/vnd.databricks.v1+cell": {
     "cellMetadata": {
      "byteLimit": 2048000,
      "rowLimit": 10000
     },
     "inputWidgets": {},
     "nuid": "8cb1c55e-52b7-42e0-956c-1aa0f5a6f81b",
     "showTitle": false,
     "tableResultSettingsMap": {},
     "title": ""
    },
    "jupyter": {
     "outputs_hidden": true
    }
   },
   "outputs": [],
   "source": [
    "# Install required packages\n",
    "%pip install aiohttp>=3.8.0 aiofiles>=22.1.0 httpx>=0.24.0 selectolax>=0.3.0 nbformat>=5.1.0"
   ]
  },
  {
   "cell_type": "code",
   "execution_count": 0,
   "metadata": {
    "application/vnd.databricks.v1+cell": {
     "cellMetadata": {
      "byteLimit": 2048000,
      "rowLimit": 10000
     },
     "inputWidgets": {},
     "nuid": "f5ca0a63-b312-4510-97d1-4ee790d624cd",
     "showTitle": false,
     "tableResultSettingsMap": {},
     "title": ""
    }
   },
   "outputs": [],
   "source": [
    "dbutils.widgets.text(\"scraper_name\", \"bidli\")\n",
    "dbutils.widgets.text(\"process_id\", \"0Z\")\n",
    "\n",
    "scraper_name = dbutils.widgets.get(\"scraper_name\")\n",
    "input_table_name = f\"realitky.raw.listings_{scraper_name}\"\n",
    "output_table_name = f\"realitky.raw.listing_details_{scraper_name}\"\n",
    "output_images_table_name = f\"realitky.raw.listing_images_{scraper_name}\"\n",
    "\n",
    "process_id = dbutils.widgets.get(\"process_id\")\n",
    "insert_mode = \"append\""
   ]
  },
  {
   "cell_type": "markdown",
   "metadata": {
    "application/vnd.databricks.v1+cell": {
     "cellMetadata": {
      "byteLimit": 2048000,
      "rowLimit": 10000
     },
     "inputWidgets": {},
     "nuid": "d70fa0e0-7a82-46f0-996d-155ae802a17c",
     "showTitle": false,
     "tableResultSettingsMap": {},
     "title": ""
    }
   },
   "source": [
    "###Load data from table"
   ]
  },
  {
   "cell_type": "code",
   "execution_count": 0,
   "metadata": {
    "application/vnd.databricks.v1+cell": {
     "cellMetadata": {
      "byteLimit": 2048000,
      "rowLimit": 10000
     },
     "inputWidgets": {},
     "nuid": "669a8e3c-2a2c-462b-b7a4-2d991ba5fb23",
     "showTitle": false,
     "tableResultSettingsMap": {},
     "title": ""
    },
    "jupyter": {
     "outputs_hidden": true
    }
   },
   "outputs": [],
   "source": [
    "df = spark.sql(f\"SELECT listing_id, listing_url FROM {input_table_name} WHERE parsed = false AND del_flag = false\")\n",
    "display(df)"
   ]
  },
  {
   "cell_type": "markdown",
   "metadata": {
    "application/vnd.databricks.v1+cell": {
     "cellMetadata": {
      "byteLimit": 2048000,
      "rowLimit": 10000
     },
     "inputWidgets": {},
     "nuid": "7bf1eef4-947f-4041-b7af-0aa57cf80bec",
     "showTitle": false,
     "tableResultSettingsMap": {},
     "title": ""
    }
   },
   "source": [
    "###Prepare parsing script\n",
    "Contains:\n",
    "- details (dictionary) + listing_hash\n",
    "- images (list) + images_hash"
   ]
  },
  {
   "cell_type": "code",
   "execution_count": 0,
   "metadata": {
    "application/vnd.databricks.v1+cell": {
     "cellMetadata": {
      "byteLimit": 2048000,
      "rowLimit": 10000
     },
     "inputWidgets": {},
     "nuid": "c5d2c526-c7bd-4e2e-9689-9917ddb46575",
     "showTitle": false,
     "tableResultSettingsMap": {
      "0": {
       "dataGridStateBlob": "{\"version\":1,\"tableState\":{\"columnPinning\":{\"left\":[\"#row_number#\"],\"right\":[]},\"columnSizing\":{},\"columnVisibility\":{}},\"settings\":{\"columns\":{\"listing_url\":{\"format\":{\"preset\":\"string-preset-url\"}}}},\"syncTimestamp\":1753878529999}",
       "filterBlob": null,
       "queryPlanFiltersBlob": null,
       "tableResultIndex": 0
      }
     },
     "title": ""
    }
   },
   "outputs": [],
   "source": [
    "# Define async function to fetch property details\n",
    "import asyncio\n",
    "import httpx\n",
    "import hashlib\n",
    "import re\n",
    "from selectolax.parser import HTMLParser\n",
    "from typing import Optional, Dict\n",
    "from pyspark.sql.types import StructType, StructField, StringType\n",
    "\n",
    "\n",
    "class Scraper_details:\n",
    "    def extract_details_from_table(self, container, row_sel: str, label_sel: str, value_sel: str) -> Dict[str, str]:\n",
    "        \"\"\"Extract details from table-like HTML structure\"\"\"\n",
    "        details = {}\n",
    "        for row in container.css(row_sel):\n",
    "            label = row.css_first(label_sel)\n",
    "            value = row.css_first(value_sel)\n",
    "            if label and value:\n",
    "                details[label.text(strip=True)] = str(value.text(strip=True))\n",
    "        return details\n",
    "\n",
    "    def extract_direct_image_url(self, next_image_url: str) -> str:\n",
    "        \"\"\"Extract direct image URL from Next.js image wrapper\"\"\"\n",
    "        try:\n",
    "            parsed_url = urlparse(next_image_url)\n",
    "            if parsed_url.path == '/_next/image' and 'url' in parse_qs(parsed_url.query):\n",
    "                # Extract the actual image URL from the 'url' parameter\n",
    "                direct_url = parse_qs(parsed_url.query)['url'][0]\n",
    "                return unquote(direct_url)\n",
    "            else:\n",
    "                # If it's not a Next.js wrapper, return as is\n",
    "                return next_image_url\n",
    "        except:\n",
    "            return next_image_url\n",
    "        \n",
    "    async def fetch_property_details(self, listing_id: str, listing_url: str) -> Optional[Dict]:\n",
    "        try:\n",
    "            # Download HTML content and parse it\n",
    "            url = listing_url\n",
    "            print(url)\n",
    "            async with httpx.AsyncClient(follow_redirects=True, timeout=30.0) as client:\n",
    "                response = await client.get(url)\n",
    "                response.raise_for_status()\n",
    "                parser = HTMLParser(response.text)\n",
    "\n",
    "            # Define details as dict\n",
    "            details = {\n",
    "                \"listing_id\": str(listing_id),\n",
    "                \"listing_url\": str(listing_url)\n",
    "            }\n",
    "\n",
    "            print(f\"Processing details for {listing_id}\")\n",
    "\n",
    "            # Extract property name\n",
    "            title_element = parser.css_first(\"h2.orange.bmg-0\")\n",
    "            if title_element:\n",
    "                details[\"Property Name\"] = str(title_element.text(strip=True))\n",
    "\n",
    "            # PENB\n",
    "            penb_type_element = parser.css_first(\"span.energeticky-stitek-type\")\n",
    "            if penb_type_element:\n",
    "                details[\"PENB\"] = penb_type_element.text(strip=True)\n",
    "\n",
    "            # Property description\n",
    "            description_element = parser.css_first(\"#top > div.screen > div.screen-in > div:nth-child(1) > div > div:nth-child(7) > div.col-66 > p\")\n",
    "            if description_element:\n",
    "                details[\"Property Description\"] = description_element.text(strip=True)\n",
    "\n",
    "            # Extract property price and basic details\n",
    "            price_container = parser.css_first(\"div.h2.orange.bmg-0.t-right\")\n",
    "            if price_container:\n",
    "                details[\"Price\"] = str(price_container.text(strip=True))\n",
    "\n",
    "            # Extract property price details\n",
    "            price_details_container = parser.css_first(\"div.t-right.small-font2.black.bmg-10.tmg--5\")\n",
    "            if price_details_container:\n",
    "                details[\"Price details\"] = str(price_details_container.text(strip=True)) if price_details_container else None\n",
    "\n",
    "            # Extract property additional details\n",
    "            tables = parser.css(\"table\")\n",
    "            if tables:\n",
    "                for table in tables:\n",
    "                    details.update(\n",
    "                        self.extract_details_from_table(\n",
    "                            table,\n",
    "                            \"tr\",\n",
    "                            \"th\",\n",
    "                            \"td\",\n",
    "                        )\n",
    "                    )\n",
    "\n",
    "            # Extract property GPS coordinates\n",
    "            map_element = parser.css_first(\"div#listingMap\")\n",
    "            if map_element:\n",
    "                details[\"GPS coordinates\"] = str(map_element.attributes.get(\"data-gps\"))\n",
    "\n",
    "            html_content = parser.html\n",
    "            match = re.search(\n",
    "                r\"LatLng\\s*=\\s*new google\\.maps\\.LatLng\\(\\s*([0-9\\.\\-]+)\\s*,\\s*([0-9\\.\\-]+)\\s*\\)\",\n",
    "                html_content,\n",
    "            )\n",
    "            if match:\n",
    "                lat = match.group(1)\n",
    "                lng = match.group(2)\n",
    "                details[\"GPS coordinates\"] = str(f\"{lat},{lng}\")\n",
    "\n",
    "            # Set status\n",
    "            if title_element:\n",
    "                details[\"Status\"] = 'active'\n",
    "            else:\n",
    "                details[\"Status\"] = 'inactive'\n",
    "\n",
    "            # Generate listing_hash\n",
    "            detail_hash_input = {k: v for k, v in details.items()}\n",
    "            listing_hash = hashlib.sha256(str(sorted(detail_hash_input.items())).encode()).hexdigest()\n",
    "            details[\"listing_hash\"] = str(listing_hash)\n",
    "\n",
    "            \n",
    "            #######################\n",
    "            ##### -- IMAGES -- ####\n",
    "            #######################\n",
    "            \n",
    "            # Extract property images from main detail slider\n",
    "            images = []\n",
    "            images_container = parser.css(\"div.nem-detail-slider div.swiper-slide:not(.swiper-slide-duplicate)\")\n",
    "            if images_container:\n",
    "                for img_number, slide in enumerate(images_container, 1):\n",
    "                    style = slide.attributes.get(\"style\", \"\")\n",
    "                    if \"background-image:\" in style:\n",
    "                        # Extract URL from background-image: url(\"...\") or url(...) without quotes\n",
    "                        match = re.search(r'background-image:\\s*url\\([\"\\']?(.*?)[\"\\']?\\)', style)\n",
    "                        if match:\n",
    "                            src = match.group(1)\n",
    "\n",
    "                            # Handle relative URLs - bidli.cz uses relative paths\n",
    "                            if src.startswith(\"/\"):\n",
    "                                src = \"https://www.bidli.cz\" + src\n",
    "                            elif not src.startswith(\"http\"):\n",
    "                                src = \"https://www.bidli.cz/\" + src\n",
    "\n",
    "                            # Create image record\n",
    "                            image_record = {\n",
    "                                \"listing_id\": str(listing_id),\n",
    "                                \"img_number\": img_number,\n",
    "                                \"img_link\": str(src)\n",
    "                            }\n",
    "                            images.append(image_record)\n",
    "                        else:\n",
    "                            print(f\"DEBUG {listing_id}: No URL match in style\")\n",
    "                    else:\n",
    "                        print(f\"DEBUG {listing_id}: No background-image in style\")\n",
    "            else:\n",
    "                print(f\"DEBUG {listing_id}: No detail slides found, returning empty data...\")\n",
    "                if not images:\n",
    "                    image_record = {\n",
    "                        \"listing_id\": str(listing_id),\n",
    "                        \"img_number\": None,\n",
    "                        \"img_link\": None\n",
    "                    }\n",
    "                    images.append(image_record)\n",
    "            \n",
    "            # Generate images_hash\n",
    "            image_hash_input = str(sorted([sorted(img.items()) for img in images]))\n",
    "            images_hash = hashlib.sha256(image_hash_input.encode()).hexdigest()\n",
    "            for image_record in images:\n",
    "                image_record[\"images_hash\"] = str(images_hash)\n",
    "            \n",
    "            print(f\"Found {len(images)} images for listing {listing_id}\")\n",
    "            return details, images\n",
    "\n",
    "        except Exception as e:\n",
    "            print(f\"Error parsing {listing_id}: {e}\")\n",
    "            return None, []"
   ]
  },
  {
   "cell_type": "markdown",
   "metadata": {
    "application/vnd.databricks.v1+cell": {
     "cellMetadata": {},
     "inputWidgets": {},
     "nuid": "6a31f9cc-fcd9-49c0-9e39-8e4cf3b2abc0",
     "showTitle": false,
     "tableResultSettingsMap": {},
     "title": ""
    }
   },
   "source": [
    "### Execute parsing\n",
    "- Run the parsing script to extract relevant data from the raw input.\n",
    "- Ensure all required fields are captured and formatted correctly.\n",
    "- Log any errors or missing data for review."
   ]
  },
  {
   "cell_type": "code",
   "execution_count": 0,
   "metadata": {
    "application/vnd.databricks.v1+cell": {
     "cellMetadata": {
      "byteLimit": 2048000,
      "rowLimit": 10000
     },
     "inputWidgets": {},
     "nuid": "dcd4f06e-cdb5-4115-b058-c20b3b71c6c8",
     "showTitle": false,
     "tableResultSettingsMap": {
      "1": {
       "dataGridStateBlob": "{\"version\":1,\"tableState\":{\"columnPinning\":{\"left\":[\"#row_number#\"],\"right\":[]},\"columnSizing\":{},\"columnVisibility\":{}},\"settings\":{\"columns\":{\"img_direct_link\":{\"format\":{\"preset\":\"string-preset-url\"}},\"img_link\":{\"format\":{\"preset\":\"string-preset-url\"}}}},\"syncTimestamp\":1754480862457}",
       "filterBlob": null,
       "queryPlanFiltersBlob": null,
       "tableResultIndex": 1
      }
     },
     "title": ""
    },
    "jupyter": {
     "outputs_hidden": true
    }
   },
   "outputs": [],
   "source": [
    "# Execute the async function\n",
    "print(f\"Found {df.count()} listings\")\n",
    "if df.count() > 0:\n",
    "    scraper = Scraper_details()\n",
    "    results = await asyncio.gather(*[scraper.fetch_property_details(row.listing_id, row.listing_url) for row in df.collect()])\n",
    "    \n",
    "    # Separate details and images\n",
    "    parsed_details = [result[0] for result in results if result[0] is not None] # results = [0, 1]\n",
    "    parsed_images = []\n",
    "    for result in results:\n",
    "        if result[1]:\n",
    "            parsed_images.extend(result[1])\n",
    "    \n",
    "    print(f\"Scraped {len(parsed_details)} listings with {len(parsed_images)} total images\")\n",
    "    \n",
    "    # Create DataFrames\n",
    "    if parsed_details:\n",
    "        df_parsed_details = spark.createDataFrame(parsed_details)\n",
    "    else:\n",
    "        schema = StructType([\n",
    "            StructField(\"listing_id\", StringType(), True),\n",
    "            StructField(\"listing_url\", StringType(), True)\n",
    "        ])\n",
    "        df_parsed_details = spark.createDataFrame([], schema)\n",
    "    \n",
    "    if parsed_images:\n",
    "        df_parsed_images = spark.createDataFrame(parsed_images)\n",
    "    else:\n",
    "        images_schema = StructType([\n",
    "            StructField(\"listing_id\", StringType(), True),\n",
    "            StructField(\"img_number\", StringType(), True),\n",
    "            StructField(\"img_link\", StringType(), True)\n",
    "        ])\n",
    "        df_parsed_images = spark.createDataFrame([], images_schema)\n",
    "\n",
    "print(\"--- DETAILS ---\")\n",
    "display(df_parsed_details)\n",
    "print(\"--- IMAGES ---\")\n",
    "display(df_parsed_images)"
   ]
  },
  {
   "cell_type": "markdown",
   "metadata": {
    "application/vnd.databricks.v1+cell": {
     "cellMetadata": {
      "byteLimit": 2048000,
      "rowLimit": 10000
     },
     "inputWidgets": {},
     "nuid": "0c2dd550-0c60-4c90-97a8-47126e0f3b36",
     "showTitle": false,
     "tableResultSettingsMap": {},
     "title": ""
    }
   },
   "source": [
    "###Export data and update stats\n",
    "- From 'clean_column_name.ipynb. get script for cleaning names of columns (eg. no diacritics, lowercase, replace spaces with underscore, etc.)\n",
    "- From 'listing_details_import.ipynb' get script for importing scraped information about property\n",
    "- From 'listing_update.ipynb' get script for updating state of listing_id to be 'parsed = True'\n",
    "- After all get all the listing_ids and set upd_check_date to current date"
   ]
  },
  {
   "cell_type": "code",
   "execution_count": 0,
   "metadata": {
    "application/vnd.databricks.v1+cell": {
     "cellMetadata": {
      "byteLimit": 2048000,
      "rowLimit": 10000
     },
     "inputWidgets": {},
     "nuid": "08c0e122-e8d5-4ffc-aee3-ca4f26a4d14b",
     "showTitle": false,
     "tableResultSettingsMap": {},
     "title": ""
    },
    "jupyter": {
     "outputs_hidden": true
    }
   },
   "outputs": [],
   "source": [
    "import sys\n",
    "from pyspark.sql.functions import current_date\n",
    "\n",
    "# import functions\n",
    "%run \"./utils/clean_column_name.ipynb\"\n",
    "%run \"./utils/listing_details_import.ipynb\"\n",
    "%run \"./utils/listings_update.ipynb\"\n",
    "\n",
    "if df_parsed_details.count() > 0:\n",
    "    # Clean column names\n",
    "    df_parsed_details = clean_column_names(df_parsed_details)\n",
    "    df_parsed_images = clean_column_names(df_parsed_images)\n",
    "\n",
    "    # Export scraped data about property\n",
    "    row_count = export_to_table(df_parsed_details, output_table_name, insert_mode, \"listing_hash\")\n",
    "    images_count = export_to_table(df_parsed_images, output_images_table_name, insert_mode, \"images_hash\")\n",
    "\n",
    "    # Update all listing_ids with 'parsed = True'\n",
    "    df_parsed_details.createOrReplaceTempView(\"listing_ids_view\")\n",
    "    update_listings(input_table_name, 'parsed', process_id)\n",
    "\n",
    "    # Update input table with 'upd_check_date = current_date'\n",
    "    spark.sql(f\"\"\"    \n",
    "        UPDATE {input_table_name}\n",
    "            SET upd_check_date = current_date()\n",
    "            WHERE listing_id IN (SELECT listing_id FROM listing_ids_view) AND del_flag = false\n",
    "        \"\"\")\n",
    "else:\n",
    "    row_count = 0\n",
    "\n",
    "# Save row count\n",
    "dbutils.jobs.taskValues.set(\"row_count\", row_count)"
   ]
  }
 ],
 "metadata": {
  "application/vnd.databricks.v1+notebook": {
   "computePreferences": null,
   "dashboards": [],
   "environmentMetadata": {
    "base_environment": "",
    "environment_version": "2"
   },
   "inputWidgetPreferences": null,
   "language": "python",
   "notebookMetadata": {
    "mostRecentlyExecutedCommandWithImplicitDF": {
     "commandId": 7452526412662602,
     "dataframes": [
      "_sqldf"
     ]
    },
    "pythonIndentUnit": 4
   },
   "notebookName": "scraper_bidli_detail",
   "widgets": {
    "process_id": {
     "currentValue": "2A",
     "nuid": "26c927e6-c728-4f3b-9b3e-71cb5621206f",
     "typedWidgetInfo": {
      "autoCreated": false,
      "defaultValue": "0Z",
      "label": null,
      "name": "process_id",
      "options": {
       "validationRegex": null,
       "widgetDisplayType": "Text"
      },
      "parameterDataType": "String"
     },
     "widgetInfo": {
      "defaultValue": "0Z",
      "label": null,
      "name": "process_id",
      "options": {
       "autoCreated": null,
       "validationRegex": null,
       "widgetType": "text"
      },
      "widgetType": "text"
     }
    },
    "scraper_name": {
     "currentValue": "bidli",
     "nuid": "fc0c7eb4-d6b1-41f9-9932-18680efc2745",
     "typedWidgetInfo": {
      "autoCreated": false,
      "defaultValue": "bidli",
      "label": null,
      "name": "scraper_name",
      "options": {
       "validationRegex": null,
       "widgetDisplayType": "Text"
      },
      "parameterDataType": "String"
     },
     "widgetInfo": {
      "defaultValue": "bidli",
      "label": null,
      "name": "scraper_name",
      "options": {
       "autoCreated": null,
       "validationRegex": null,
       "widgetType": "text"
      },
      "widgetType": "text"
     }
    }
   }
  },
  "language_info": {
   "name": "python"
  }
 },
 "nbformat": 4,
 "nbformat_minor": 0
}
