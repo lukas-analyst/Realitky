{
 "cells": [
  {
   "cell_type": "markdown",
   "metadata": {
    "application/vnd.databricks.v1+cell": {
     "cellMetadata": {},
     "inputWidgets": {},
     "nuid": "f23e930e-1122-4e41-8d6a-09de50eb05a8",
     "showTitle": false,
     "tableResultSettingsMap": {},
     "title": ""
    }
   },
   "source": [
    "### Prepare environment"
   ]
  },
  {
   "cell_type": "code",
   "execution_count": 0,
   "metadata": {
    "application/vnd.databricks.v1+cell": {
     "cellMetadata": {
      "byteLimit": 2048000,
      "rowLimit": 10000
     },
     "inputWidgets": {},
     "nuid": "8cb1c55e-52b7-42e0-956c-1aa0f5a6f81b",
     "showTitle": false,
     "tableResultSettingsMap": {},
     "title": ""
    },
    "jupyter": {
     "outputs_hidden": true
    }
   },
   "outputs": [],
   "source": [
    "# Install required packages\n",
    "%pip install aiohttp>=3.8.0 aiofiles>=22.1.0 httpx>=0.24.0 selectolax>=0.3.0 nbformat>=5.1.0"
   ]
  },
  {
   "cell_type": "code",
   "execution_count": 0,
   "metadata": {
    "application/vnd.databricks.v1+cell": {
     "cellMetadata": {
      "byteLimit": 2048000,
      "rowLimit": 10000
     },
     "inputWidgets": {},
     "nuid": "f5ca0a63-b312-4510-97d1-4ee790d624cd",
     "showTitle": false,
     "tableResultSettingsMap": {},
     "title": ""
    }
   },
   "outputs": [],
   "source": [
    "dbutils.widgets.text(\"scraper_name\", \"ulovdomov\")\n",
    "dbutils.widgets.text(\"process_id\", \"0Z\")\n",
    "\n",
    "scraper_name = dbutils.widgets.get(\"scraper_name\")\n",
    "input_table_name = f\"realitky.raw.listings_{scraper_name}\"\n",
    "output_table_name = f\"realitky.raw.listing_details_{scraper_name}\"\n",
    "output_images_table_name = f\"realitky.raw.listing_images_{scraper_name}\"\n",
    "\n",
    "process_id = dbutils.widgets.get(\"process_id\")\n",
    "insert_mode = \"append\""
   ]
  },
  {
   "cell_type": "markdown",
   "metadata": {
    "application/vnd.databricks.v1+cell": {
     "cellMetadata": {
      "byteLimit": 2048000,
      "rowLimit": 10000
     },
     "inputWidgets": {},
     "nuid": "d70fa0e0-7a82-46f0-996d-155ae802a17c",
     "showTitle": false,
     "tableResultSettingsMap": {},
     "title": ""
    }
   },
   "source": [
    "###Load data from table"
   ]
  },
  {
   "cell_type": "code",
   "execution_count": 0,
   "metadata": {
    "application/vnd.databricks.v1+cell": {
     "cellMetadata": {
      "byteLimit": 2048000,
      "rowLimit": 10000
     },
     "inputWidgets": {},
     "nuid": "669a8e3c-2a2c-462b-b7a4-2d991ba5fb23",
     "showTitle": false,
     "tableResultSettingsMap": {},
     "title": ""
    },
    "jupyter": {
     "outputs_hidden": true
    }
   },
   "outputs": [],
   "source": [
    "df = spark.sql(f\"SELECT listing_id, listing_url, gps_coordinates_raw FROM {input_table_name} WHERE parsed = false AND del_flag = false\")\n",
    "display(df)"
   ]
  },
  {
   "cell_type": "markdown",
   "metadata": {
    "application/vnd.databricks.v1+cell": {
     "cellMetadata": {
      "byteLimit": 2048000,
      "rowLimit": 10000
     },
     "inputWidgets": {},
     "nuid": "7bf1eef4-947f-4041-b7af-0aa57cf80bec",
     "showTitle": false,
     "tableResultSettingsMap": {},
     "title": ""
    }
   },
   "source": [
    "###Prepare parsing script\n",
    "Contains:\n",
    "- details (dictionary) + listing_hash\n",
    "- images (list) + images_hash"
   ]
  },
  {
   "cell_type": "code",
   "execution_count": 0,
   "metadata": {
    "application/vnd.databricks.v1+cell": {
     "cellMetadata": {
      "byteLimit": 2048000,
      "rowLimit": 10000
     },
     "inputWidgets": {},
     "nuid": "c5d2c526-c7bd-4e2e-9689-9917ddb46575",
     "showTitle": false,
     "tableResultSettingsMap": {
      "0": {
       "dataGridStateBlob": "{\"version\":1,\"tableState\":{\"columnPinning\":{\"left\":[\"#row_number#\"],\"right\":[]},\"columnSizing\":{},\"columnVisibility\":{}},\"settings\":{\"columns\":{\"listing_url\":{\"format\":{\"preset\":\"string-preset-url\"}}}},\"syncTimestamp\":1753693352765}",
       "filterBlob": null,
       "queryPlanFiltersBlob": null,
       "tableResultIndex": 0
      }
     },
     "title": ""
    }
   },
   "outputs": [],
   "source": [
    "# Define async function to fetch property details\n",
    "import asyncio\n",
    "import httpx\n",
    "import hashlib\n",
    "import json\n",
    "from selectolax.parser import HTMLParser\n",
    "from pyspark.sql.types import StructType, StructField, StringType\n",
    "from typing import Optional, Dict, Tuple, List\n",
    "from urllib.parse import urlparse, parse_qs, unquote\n",
    "\n",
    "class Scraper_details:\n",
    "    def extract_direct_image_url(self, next_image_url: str) -> str:\n",
    "        \"\"\"Extract direct image URL from Next.js image wrapper\"\"\"\n",
    "        try:\n",
    "            parsed_url = urlparse(next_image_url)\n",
    "            if parsed_url.path == '/_next/image' and 'url' in parse_qs(parsed_url.query):\n",
    "                # Extract the actual image URL from the 'url' parameter\n",
    "                direct_url = parse_qs(parsed_url.query)['url'][0]\n",
    "                return unquote(direct_url)\n",
    "            else:\n",
    "                # If it's not a Next.js wrapper, return as is\n",
    "                return next_image_url\n",
    "        except:\n",
    "            return next_image_url\n",
    "        \n",
    "    async def fetch_property_details(self, listing_id: str, listing_url: str, gps_coordinates_raw: str) -> Tuple[Optional[Dict], List[Dict]]:\n",
    "        try:\n",
    "            # Download HTML content and parse it\n",
    "            url = listing_url\n",
    "            async with httpx.AsyncClient(follow_redirects=True, timeout=30.0) as client:\n",
    "                response = await client.get(url)\n",
    "                response.raise_for_status()\n",
    "                parser = HTMLParser(response.text)\n",
    "\n",
    "            # Define details as dict\n",
    "            details = {\n",
    "                \"listing_id\": str(listing_id),\n",
    "                \"listing_url\": str(listing_url),\n",
    "                \"gps_coordinates_raw\": str(gps_coordinates_raw)\n",
    "            }\n",
    "\n",
    "            # Extract property name\n",
    "            title_element = parser.css_first(\"h1.chakra-heading.css-16h1lz\")\n",
    "            if title_element:\n",
    "                details[\"Property Name\"] = str(title_element.text(strip=True))\n",
    "\n",
    "            # Extract property description\n",
    "            description_container = parser.css_first('p[data-test=\"offerDetail.description\"]')\n",
    "            if description_container:\n",
    "                description_text = description_container.text(strip=True)\n",
    "                details[\"Property Description\"] = str(description_text)\n",
    "\n",
    "            # Extract property price and basic details\n",
    "            price = parser.css_first('h2[data-test=\"offerDetail.price\"]')\n",
    "            if price:\n",
    "                price_span = price.css_first(\"span\")\n",
    "                if price_span:\n",
    "                    price_text = price_span.text(strip=True)\n",
    "                    details[\"Cena\"] = str(price_text)\n",
    "                \n",
    "            # Extract price details\n",
    "            price_details = parser.css_first('p[data-test=\"offerDetail.price.note\"]')\n",
    "            if price_details:\n",
    "                price_details_text = price_details.text(strip=True)\n",
    "                details[\"Price Details\"] = str(price_details_text)\n",
    "            \n",
    "            # Extract property_additional_details\n",
    "            parameters = None\n",
    "            try:\n",
    "                offer_json_script = parser.css_first('script#__NEXT_DATA__')\n",
    "                if offer_json_script:\n",
    "                    offer_json = json.loads(offer_json_script.text())\n",
    "                    offer_data = offer_json[\"props\"][\"pageProps\"][\"offer\"][\"data\"]\n",
    "                    parameters = offer_data.get(\"parameters\", {})\n",
    "            except Exception as e:\n",
    "                print(f\"Error loading parameters from __NEXT_DATA__: {e}\")\n",
    "            if not isinstance(parameters, dict):\n",
    "                parameters = {}\n",
    "            for key, param in parameters.items():\n",
    "                if param is None:\n",
    "                    continue\n",
    "                title = param.get(\"title\", key)\n",
    "                # Some parameters have \"options\", others only \"value\"\n",
    "                if \"options\" in param and isinstance(param[\"options\"], list):\n",
    "                    if len(param[\"options\"]) == 1:\n",
    "                        details[title] = param[\"options\"][0].get(\"title\")\n",
    "                    else:\n",
    "                        details[title] = \", \".join([opt.get(\"title\", \"\") for opt in param[\"options\"]])\n",
    "                elif \"value\" in param:\n",
    "                    details[title] = param[\"value\"]\n",
    "                else:\n",
    "                    details[title] = str(param)\n",
    "                \n",
    "            # GPS\n",
    "            try:\n",
    "                gps_dict = json.loads(gps_coordinates_raw.replace(\"'\", '\"'))\n",
    "                if gps_dict:\n",
    "                    lat = gps_dict.get(\"lat\")\n",
    "                    lng = gps_dict.get(\"lng\")\n",
    "                    if lat is not None and lng is not None:\n",
    "                        details[\"GPS Coordinates\"] = f\"{lat},{lng}\"\n",
    "            except Exception as e:\n",
    "                print(f\"Error parsing GPS coordinates: {e}\")\n",
    "\n",
    "            # Get status of the property:\n",
    "            status_element = parser.css_first('h2.chakra-heading.css-joick')\n",
    "            if status_element:\n",
    "                status_text = status_element.text(strip=True)\n",
    "                if status_text and \"Inzerát už má zájemce\" in status_text:\n",
    "                    details[\"status\"] = \"inactive\"\n",
    "                else:\n",
    "                    details[\"status\"] = \"active\"\n",
    "            else:\n",
    "                details[\"status\"] = \"active\"\n",
    "\n",
    "            # Generate hash\n",
    "            hash_input = {k: v for k, v in details.items() if k not in [\"listing_hash\", \"ins_dt\"]}\n",
    "            listing_hash = hashlib.sha256(str(sorted(hash_input.items())).encode()).hexdigest()\n",
    "            details[\"listing_hash\"] = str(listing_hash)\n",
    "\n",
    "            #######################\n",
    "            ##### -- IMAGES -- ####\n",
    "            #######################\n",
    "            \n",
    "            images = []\n",
    "            image_selectors = [\n",
    "                \"img[src*='photo.ulovdomov.cz']\",  # Direct images from ulovdomov CDN\n",
    "            ]\n",
    "            seen_urls = set()\n",
    "            \n",
    "            for selector in image_selectors:\n",
    "                found_images = parser.css(selector)\n",
    "                if found_images:\n",
    "                    for img_element in found_images:\n",
    "                        src = img_element.attributes.get(\"src\")\n",
    "                        if src and \"photo.ulovdomov.cz\" in src:\n",
    "                            # Only add unique URLs\n",
    "                            if src not in seen_urls:\n",
    "                                seen_urls.add(src)\n",
    "                                image_record = {\n",
    "                                    \"listing_id\": str(listing_id),\n",
    "                                    \"img_number\": str(len(images) + 1),\n",
    "                                    \"img_link\": str(src)\n",
    "                                }\n",
    "                                images.append(image_record)\n",
    "                    break\n",
    "            \n",
    "            # If still no images found, create empty record\n",
    "            if not images:\n",
    "                image_record = {\n",
    "                    \"listing_id\": str(listing_id),\n",
    "                    \"img_number\": None,\n",
    "                    \"img_link\": None\n",
    "                }\n",
    "                images.append(image_record)\n",
    "            \n",
    "            # Generate images_hash\n",
    "            image_hash_input = str(sorted([sorted(img.items()) for img in images]))\n",
    "            images_hash = hashlib.sha256(image_hash_input.encode()).hexdigest()\n",
    "            for image_record in images:\n",
    "                image_record[\"images_hash\"] = str(images_hash)\n",
    "            \n",
    "            print(f\"Found {len(images)} images for listing {listing_id}\")\n",
    "            return details, images\n",
    "\n",
    "        except Exception as e:\n",
    "            print(f\"Error parsing {listing_id}: {e}\")\n",
    "            return None, []"
   ]
  },
  {
   "cell_type": "markdown",
   "metadata": {
    "application/vnd.databricks.v1+cell": {
     "cellMetadata": {},
     "inputWidgets": {},
     "nuid": "7a7a8c14-fbb2-4613-a9f6-eb6c7c157673",
     "showTitle": false,
     "tableResultSettingsMap": {},
     "title": ""
    }
   },
   "source": [
    "### Execute parsing\n",
    "- Run the parsing script to extract relevant data from the raw input.\n",
    "- Ensure all required fields are captured and formatted correctly.\n",
    "- Log any errors or missing data for review."
   ]
  },
  {
   "cell_type": "code",
   "execution_count": 0,
   "metadata": {
    "application/vnd.databricks.v1+cell": {
     "cellMetadata": {
      "byteLimit": 2048000,
      "rowLimit": 10000
     },
     "inputWidgets": {},
     "nuid": "f73bc041-2508-48df-95ca-a4068fc03385",
     "showTitle": false,
     "tableResultSettingsMap": {
      "1": {
       "dataGridStateBlob": "{\"version\":1,\"tableState\":{\"columnPinning\":{\"left\":[\"#row_number#\"],\"right\":[]},\"columnSizing\":{},\"columnVisibility\":{}},\"settings\":{\"columns\":{\"img_link\":{\"format\":{\"preset\":\"string-preset-url\"}}}},\"syncTimestamp\":1754483723970}",
       "filterBlob": null,
       "queryPlanFiltersBlob": null,
       "tableResultIndex": 1
      }
     },
     "title": ""
    },
    "jupyter": {
     "outputs_hidden": true
    }
   },
   "outputs": [],
   "source": [
    "# Execute the async function\n",
    "print(f\"Found {df.count()} listings\")\n",
    "if df.count() > 0:\n",
    "    scraper = Scraper_details()\n",
    "    results = await asyncio.gather(*[scraper.fetch_property_details(row.listing_id, row.listing_url, row.gps_coordinates_raw) for row in df.collect()])\n",
    "    \n",
    "    # Separate details and images\n",
    "    parsed_details = [result[0] for result in results if result[0] is not None] # results = [0, 1]\n",
    "    parsed_images = []\n",
    "    for result in results:\n",
    "        if result[1]:\n",
    "            parsed_images.extend(result[1])\n",
    "    \n",
    "    print(f\"Scraped {len(parsed_details)} listings with {len(parsed_images)} total images\")\n",
    "    \n",
    "    # Create DataFrames\n",
    "    if parsed_details:\n",
    "        df_parsed_details = spark.createDataFrame(parsed_details)\n",
    "    else:\n",
    "        schema = StructType([\n",
    "            StructField(\"listing_id\", StringType(), True),\n",
    "            StructField(\"listing_url\", StringType(), True)\n",
    "        ])\n",
    "        df_parsed_details = spark.createDataFrame([], schema)\n",
    "    \n",
    "    if parsed_images:\n",
    "        df_parsed_images = spark.createDataFrame(parsed_images)\n",
    "    else:\n",
    "        images_schema = StructType([\n",
    "            StructField(\"listing_id\", StringType(), True),\n",
    "            StructField(\"img_number\", StringType(), True),\n",
    "            StructField(\"img_link\", StringType(), True)\n",
    "        ])\n",
    "        df_parsed_images = spark.createDataFrame([], images_schema)\n",
    "\n",
    "print(\"--- DETAILS ---\")\n",
    "display(df_parsed_details)\n",
    "print(\"--- IMAGES ---\")\n",
    "display(df_parsed_images)"
   ]
  },
  {
   "cell_type": "markdown",
   "metadata": {
    "application/vnd.databricks.v1+cell": {
     "cellMetadata": {
      "byteLimit": 2048000,
      "rowLimit": 10000
     },
     "inputWidgets": {},
     "nuid": "0c2dd550-0c60-4c90-97a8-47126e0f3b36",
     "showTitle": false,
     "tableResultSettingsMap": {},
     "title": ""
    }
   },
   "source": [
    "###Export data and update stats\n",
    "- From 'clean_column_name.ipynb. get script for cleaning names of columns (eg. no diacritics, lowercase, replace spaces with underscore, etc.)\n",
    "- From 'listing_details_import.ipynb' get script for importing scraped information about property\n",
    "- From 'listing_update.ipynb' get script for updating state of listing_id to be 'parsed = True'\n",
    "- After all get all the listing_ids and set upd_check_date to current date"
   ]
  },
  {
   "cell_type": "code",
   "execution_count": 0,
   "metadata": {
    "application/vnd.databricks.v1+cell": {
     "cellMetadata": {
      "byteLimit": 2048000,
      "rowLimit": 10000
     },
     "inputWidgets": {},
     "nuid": "08c0e122-e8d5-4ffc-aee3-ca4f26a4d14b",
     "showTitle": false,
     "tableResultSettingsMap": {},
     "title": ""
    },
    "jupyter": {
     "outputs_hidden": true
    }
   },
   "outputs": [],
   "source": [
    "import sys\n",
    "from pyspark.sql.functions import current_date\n",
    "\n",
    "# import functions\n",
    "%run \"./utils/clean_column_name.ipynb\"\n",
    "%run \"./utils/listing_details_import.ipynb\"\n",
    "%run \"./utils/listings_update.ipynb\"\n",
    "\n",
    "if df_parsed_details.count() > 0:\n",
    "    # Clean column names\n",
    "    df_parsed_details = clean_column_names(df_parsed_details)\n",
    "    df_parsed_images = clean_column_names(df_parsed_images)\n",
    "\n",
    "    # Export scraped data about property\n",
    "    row_count = export_to_table(df_parsed_details, output_table_name, insert_mode, \"listing_hash\")\n",
    "    images_count = export_to_table(df_parsed_images, output_images_table_name, insert_mode, \"images_hash\")\n",
    "\n",
    "    # Update all listing_ids with 'parsed = True'\n",
    "    df_parsed_details.createOrReplaceTempView(\"listing_ids_view\")\n",
    "    update_listings(input_table_name, 'parsed', process_id)\n",
    "\n",
    "    # Update input table with 'upd_check_date = current_date'\n",
    "    spark.sql(f\"\"\"    \n",
    "        UPDATE {input_table_name}\n",
    "            SET upd_check_date = current_date()\n",
    "            WHERE listing_id IN (SELECT listing_id FROM listing_ids_view) AND del_flag = false\n",
    "        \"\"\")\n",
    "else:\n",
    "    row_count = 0\n",
    "\n",
    "# Save row count\n",
    "dbutils.jobs.taskValues.set(\"row_count\", row_count)"
   ]
  }
 ],
 "metadata": {
  "application/vnd.databricks.v1+notebook": {
   "computePreferences": null,
   "dashboards": [],
   "environmentMetadata": {
    "base_environment": "",
    "environment_version": "2"
   },
   "inputWidgetPreferences": null,
   "language": "python",
   "notebookMetadata": {
    "mostRecentlyExecutedCommandWithImplicitDF": {
     "commandId": 7452526412662602,
     "dataframes": [
      "_sqldf"
     ]
    },
    "pythonIndentUnit": 4
   },
   "notebookName": "scraper_ulovdomov_detail",
   "widgets": {
    "process_id": {
     "currentValue": "0A",
     "nuid": "7d4c0b2d-c7a1-4ded-8770-43b2fa732958",
     "typedWidgetInfo": {
      "autoCreated": false,
      "defaultValue": "0Z",
      "label": null,
      "name": "process_id",
      "options": {
       "validationRegex": null,
       "widgetDisplayType": "Text"
      },
      "parameterDataType": "String"
     },
     "widgetInfo": {
      "defaultValue": "0Z",
      "label": null,
      "name": "process_id",
      "options": {
       "autoCreated": null,
       "validationRegex": null,
       "widgetType": "text"
      },
      "widgetType": "text"
     }
    },
    "scraper_name": {
     "currentValue": "ulovdomov",
     "nuid": "ea99d85a-e0b2-4e18-aad2-8c4a86effa5a",
     "typedWidgetInfo": {
      "autoCreated": false,
      "defaultValue": "ulovdomov",
      "label": null,
      "name": "scraper_name",
      "options": {
       "validationRegex": null,
       "widgetDisplayType": "Text"
      },
      "parameterDataType": "String"
     },
     "widgetInfo": {
      "defaultValue": "ulovdomov",
      "label": null,
      "name": "scraper_name",
      "options": {
       "autoCreated": null,
       "validationRegex": null,
       "widgetType": "text"
      },
      "widgetType": "text"
     }
    }
   }
  },
  "language_info": {
   "name": "python"
  }
 },
 "nbformat": 4,
 "nbformat_minor": 0
}
