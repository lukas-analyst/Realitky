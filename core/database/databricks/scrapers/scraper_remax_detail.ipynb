{
 "cells": [
  {
   "cell_type": "markdown",
   "metadata": {
    "application/vnd.databricks.v1+cell": {
     "cellMetadata": {},
     "inputWidgets": {},
     "nuid": "a0e63b71-29f7-4843-9c4b-de0c2056fb5d",
     "showTitle": false,
     "tableResultSettingsMap": {},
     "title": ""
    }
   },
   "source": [
    "### Prepare environment"
   ]
  },
  {
   "cell_type": "code",
   "execution_count": 0,
   "metadata": {
    "application/vnd.databricks.v1+cell": {
     "cellMetadata": {
      "byteLimit": 2048000,
      "rowLimit": 10000
     },
     "inputWidgets": {},
     "nuid": "8cb1c55e-52b7-42e0-956c-1aa0f5a6f81b",
     "showTitle": false,
     "tableResultSettingsMap": {},
     "title": ""
    },
    "jupyter": {
     "outputs_hidden": true
    }
   },
   "outputs": [],
   "source": [
    "# Install required packages\n",
    "%pip install aiohttp>=3.8.0 aiofiles>=22.1.0 httpx>=0.24.0 selectolax>=0.3.0 nbformat>=5.1.0"
   ]
  },
  {
   "cell_type": "code",
   "execution_count": 0,
   "metadata": {
    "application/vnd.databricks.v1+cell": {
     "cellMetadata": {
      "byteLimit": 2048000,
      "rowLimit": 10000
     },
     "inputWidgets": {},
     "nuid": "f5ca0a63-b312-4510-97d1-4ee790d624cd",
     "showTitle": false,
     "tableResultSettingsMap": {},
     "title": ""
    }
   },
   "outputs": [],
   "source": [
    "dbutils.widgets.text(\"scraper_name\", \"remax\")\n",
    "dbutils.widgets.text(\"process_id\", \"0Z\")\n",
    "\n",
    "scraper_name = dbutils.widgets.get(\"scraper_name\")\n",
    "input_table_name = f\"realitky.raw.listings_{scraper_name}\"\n",
    "output_table_name = f\"realitky.raw.listing_details_{scraper_name}\"\n",
    "output_images_table_name = f\"realitky.raw.listing_images_{scraper_name}\"\n",
    "\n",
    "process_id = dbutils.widgets.get(\"process_id\")\n",
    "insert_mode = \"append\""
   ]
  },
  {
   "cell_type": "markdown",
   "metadata": {
    "application/vnd.databricks.v1+cell": {
     "cellMetadata": {
      "byteLimit": 2048000,
      "rowLimit": 10000
     },
     "inputWidgets": {},
     "nuid": "d70fa0e0-7a82-46f0-996d-155ae802a17c",
     "showTitle": false,
     "tableResultSettingsMap": {},
     "title": ""
    }
   },
   "source": [
    "###Load data from table"
   ]
  },
  {
   "cell_type": "code",
   "execution_count": 0,
   "metadata": {
    "application/vnd.databricks.v1+cell": {
     "cellMetadata": {
      "byteLimit": 2048000,
      "rowLimit": 10000
     },
     "inputWidgets": {},
     "nuid": "669a8e3c-2a2c-462b-b7a4-2d991ba5fb23",
     "showTitle": false,
     "tableResultSettingsMap": {},
     "title": ""
    },
    "jupyter": {
     "outputs_hidden": true
    }
   },
   "outputs": [],
   "source": [
    "df = spark.sql(f\"SELECT listing_id, listing_url FROM {input_table_name} WHERE parsed = false AND del_flag = false\")\n",
    "display(df)"
   ]
  },
  {
   "cell_type": "markdown",
   "metadata": {
    "application/vnd.databricks.v1+cell": {
     "cellMetadata": {
      "byteLimit": 2048000,
      "rowLimit": 10000
     },
     "inputWidgets": {},
     "nuid": "7bf1eef4-947f-4041-b7af-0aa57cf80bec",
     "showTitle": false,
     "tableResultSettingsMap": {},
     "title": ""
    }
   },
   "source": [
    "###Prepare parsing script\n",
    "Contains:\n",
    "- details (dictionary) + listing_hash\n",
    "- images (list) + images_hash"
   ]
  },
  {
   "cell_type": "code",
   "execution_count": 0,
   "metadata": {
    "application/vnd.databricks.v1+cell": {
     "cellMetadata": {
      "byteLimit": 2048000,
      "rowLimit": 10000
     },
     "inputWidgets": {},
     "nuid": "c5d2c526-c7bd-4e2e-9689-9917ddb46575",
     "showTitle": false,
     "tableResultSettingsMap": {},
     "title": ""
    }
   },
   "outputs": [],
   "source": [
    "# Define async function to fetch property details\n",
    "import asyncio\n",
    "import httpx\n",
    "import hashlib\n",
    "from selectolax.parser import HTMLParser\n",
    "from pyspark.sql.types import StructType, StructField, StringType\n",
    "from typing import Optional, Dict, Tuple, List\n",
    "\n",
    "class Scraper_details:\n",
    "    def _extract_details_from_table(self, container, row_sel: str, label_sel: str, value_sel: str) -> Dict[str, str]:\n",
    "        \"\"\"Extract details from table-like HTML structure\"\"\"\n",
    "        details = {}\n",
    "        for row in container.css(row_sel):\n",
    "            label = row.css_first(label_sel)\n",
    "            value = row.css_first(value_sel)\n",
    "            if label and value:\n",
    "                details[label.text(strip=True)] = str(value.text(strip=True))\n",
    "        return details\n",
    "\n",
    "    async def fetch_property_details(self, listing_id: str, listing_url: str) -> Tuple[Optional[Dict], List[Dict]]:\n",
    "        try:\n",
    "            # Download HTML content and parse it\n",
    "            url = listing_url\n",
    "            async with httpx.AsyncClient(follow_redirects=True, timeout=30.0) as client:\n",
    "                response = await client.get(url)\n",
    "                response.raise_for_status()\n",
    "                parser = HTMLParser(response.text)\n",
    "\n",
    "            # Define details as dict\n",
    "            details = {\n",
    "                \"listing_id\": str(listing_id),\n",
    "                \"listing_url\": str(listing_url)\n",
    "            }\n",
    "\n",
    "            # Extract property name\n",
    "            title_element = parser.css_first(\"h1.h2.pd-header__title\")\n",
    "            if title_element:\n",
    "                details[\"Property Name\"] = str(title_element.text(strip=True))\n",
    "\n",
    "            # Extract property description\n",
    "            description_container = parser.css_first(\"div.pd-base-info__content-collapse-inner\")\n",
    "            if description_container:\n",
    "                details[\"Property Description\"] = str(description_container.text(strip=True))\n",
    "\n",
    "            # Extract property price and basic details\n",
    "            price_container = parser.css_first(\"div.pd-table__inner\")\n",
    "            if price_container:\n",
    "                details.update(\n",
    "                    self._extract_details_from_table(\n",
    "                        price_container,\n",
    "                        \"div.pd-table__row\",\n",
    "                        \"div.pd-table__label\",\n",
    "                        \"div.pd-table__value\",\n",
    "                    )\n",
    "                )\n",
    "\n",
    "            # Extract property additional details\n",
    "            detail_container = parser.css_first(\"div.pd-detail-info\")\n",
    "            if detail_container:\n",
    "                details.update(\n",
    "                    self._extract_details_from_table(\n",
    "                        detail_container,\n",
    "                        \"div.pd-detail-info__row\",\n",
    "                        \"div.pd-detail-info__label\",\n",
    "                        \"div.pd-detail-info__value\",\n",
    "                    )\n",
    "                )\n",
    "\n",
    "            # Extract property GPS coordinates\n",
    "            map_element = parser.css_first(\"div#listingMap\")\n",
    "            if map_element:\n",
    "                details[\"GPS coordinates\"] = str(map_element.attributes.get(\"data-gps\"))\n",
    "\n",
    "            # Set status / inactivity is when we get an error 410\n",
    "            details[\"status\"] = \"active\"\n",
    "            \n",
    "            # Generate hash\n",
    "            hash_input = {k: v for k, v in details.items() if k not in [\"listing_hash\", \"ins_dt\"]}\n",
    "            listing_hash = hashlib.sha256(str(sorted(hash_input.items())).encode()).hexdigest()\n",
    "            details[\"listing_hash\"] = str(listing_hash)\n",
    "\n",
    "            #######################\n",
    "            ##### -- IMAGES -- ####\n",
    "            #######################\n",
    "            \n",
    "            # Extract property images from RE/MAX gallery structure\n",
    "            images = []\n",
    "            \n",
    "            # 1. Get main image from gallery__main-img\n",
    "            main_img = parser.css_first(\"div.gallery__main-img a.gallery__main-img-inner\")\n",
    "            if main_img:\n",
    "                href = main_img.attributes.get(\"href\")\n",
    "                if href:\n",
    "                    image_record = {\n",
    "                        \"listing_id\": str(listing_id),\n",
    "                        \"img_number\": 1,\n",
    "                        \"img_link\": str(href)\n",
    "                    }\n",
    "                    images.append(image_record)\n",
    "            \n",
    "            # 2. Get visible small images from gallery__small-img\n",
    "            small_images = parser.css(\"div.gallery__small-img div.gallery__item a\")\n",
    "            for i, img_link in enumerate(small_images, start=len(images) + 1):\n",
    "                href = img_link.attributes.get(\"href\")\n",
    "                if href:\n",
    "                    image_record = {\n",
    "                        \"listing_id\": str(listing_id),\n",
    "                        \"img_number\": i,\n",
    "                        \"img_link\": str(href)\n",
    "                    }\n",
    "                    images.append(image_record)\n",
    "            \n",
    "            # 3. Get hidden images from gallery__hidden-items\n",
    "            hidden_images = parser.css(\"div.gallery__hidden-items a.gallery__item\")\n",
    "            for i, img_link in enumerate(hidden_images, start=len(images) + 1):\n",
    "                href = img_link.attributes.get(\"href\")\n",
    "                if href:\n",
    "                    image_record = {\n",
    "                        \"listing_id\": str(listing_id),\n",
    "                        \"img_number\": i,\n",
    "                        \"img_link\": str(href)\n",
    "                    }\n",
    "                    images.append(image_record)\n",
    "            \n",
    "            # If no images found, create empty record\n",
    "            if not images:\n",
    "                image_record = {\n",
    "                    \"listing_id\": str(listing_id),\n",
    "                    \"img_number\": None,\n",
    "                    \"img_link\": None\n",
    "                }\n",
    "                images.append(image_record)\n",
    "            \n",
    "            # Generate images_hash\n",
    "            image_hash_input = str(sorted([sorted(img.items()) for img in images]))\n",
    "            images_hash = hashlib.sha256(image_hash_input.encode()).hexdigest()\n",
    "            for image_record in images:\n",
    "                image_record[\"images_hash\"] = str(images_hash)\n",
    "            \n",
    "            print(f\"Found {len(images)} images for listing {listing_id}\")\n",
    "            return details, images\n",
    "\n",
    "        # If we get 410 (inactive property):\n",
    "        except Exception as e:\n",
    "            if hasattr(e, \"response\") and getattr(e.response, \"status_code\", None) == 410:\n",
    "                \n",
    "                # Set details\n",
    "                details = {\n",
    "                    \"listing_id\": str(listing_id),\n",
    "                    \"listing_url\": str(listing_url),\n",
    "                    \"status\": \"inactive\"\n",
    "                }\n",
    "\n",
    "                # Generate hash\n",
    "                hash_input = {k: v for k, v in details.items() if k not in [\"listing_hash\", \"ins_dt\"]}\n",
    "                listing_hash = hashlib.sha256(str(sorted(hash_input.items())).encode()).hexdigest()\n",
    "                details[\"listing_hash\"] = str(listing_hash)\n",
    "                \n",
    "                return details, []\n",
    "            print(f\"Error processing details for {listing_id}: {e}\")\n",
    "            return None, []\n",
    "        \n",
    "            "
   ]
  },
  {
   "cell_type": "markdown",
   "metadata": {
    "application/vnd.databricks.v1+cell": {
     "cellMetadata": {},
     "inputWidgets": {},
     "nuid": "62e04062-fedf-4157-a1da-0844d621219f",
     "showTitle": false,
     "tableResultSettingsMap": {},
     "title": ""
    }
   },
   "source": [
    "### Execute parsing\n",
    "- Run the parsing script to extract relevant data from the raw input.\n",
    "- Ensure all required fields are captured and formatted correctly.\n",
    "- Log any errors or missing data for review."
   ]
  },
  {
   "cell_type": "code",
   "execution_count": 0,
   "metadata": {
    "application/vnd.databricks.v1+cell": {
     "cellMetadata": {
      "byteLimit": 2048000,
      "rowLimit": 10000
     },
     "inputWidgets": {},
     "nuid": "e2ea8cdb-a2f7-416e-8381-e20fb5731de8",
     "showTitle": false,
     "tableResultSettingsMap": {},
     "title": ""
    },
    "jupyter": {
     "outputs_hidden": true
    }
   },
   "outputs": [],
   "source": [
    "# Execute the async function\n",
    "print(f\"Found {df.count()} listings\")\n",
    "if df.count() > 0:\n",
    "    scraper = Scraper_details()\n",
    "    results = await asyncio.gather(*[scraper.fetch_property_details(row.listing_id, row.listing_url) for row in df.collect()])\n",
    "    \n",
    "    # Separate details and images\n",
    "    parsed_details = [result[0] for result in results if result[0] is not None] # results = [0, 1]\n",
    "    parsed_images = []\n",
    "    for result in results:\n",
    "        if result[1]:\n",
    "            parsed_images.extend(result[1])\n",
    "    \n",
    "    print(f\"Scraped {len(parsed_details)} listings with {len(parsed_images)} total images\")\n",
    "    \n",
    "    # Create DataFrames\n",
    "    if parsed_details:\n",
    "        df_parsed_details = spark.createDataFrame(parsed_details)\n",
    "    else:\n",
    "        schema = StructType([\n",
    "            StructField(\"listing_id\", StringType(), True),\n",
    "            StructField(\"listing_url\", StringType(), True)\n",
    "        ])\n",
    "        df_parsed_details = spark.createDataFrame([], schema)\n",
    "    \n",
    "    if parsed_images:\n",
    "        df_parsed_images = spark.createDataFrame(parsed_images)\n",
    "    else:\n",
    "        images_schema = StructType([\n",
    "            StructField(\"listing_id\", StringType(), True),\n",
    "            StructField(\"img_number\", StringType(), True),\n",
    "            StructField(\"img_link\", StringType(), True)\n",
    "        ])\n",
    "        df_parsed_images = spark.createDataFrame([], images_schema)\n",
    "\n",
    "print(\"--- DETAILS ---\")\n",
    "display(df_parsed_details)\n",
    "print(\"--- IMAGES ---\")\n",
    "display(df_parsed_images)"
   ]
  },
  {
   "cell_type": "markdown",
   "metadata": {
    "application/vnd.databricks.v1+cell": {
     "cellMetadata": {
      "byteLimit": 2048000,
      "rowLimit": 10000
     },
     "inputWidgets": {},
     "nuid": "0c2dd550-0c60-4c90-97a8-47126e0f3b36",
     "showTitle": false,
     "tableResultSettingsMap": {},
     "title": ""
    }
   },
   "source": [
    "###Export data and update stats\n",
    "- From 'clean_column_name.ipynb. get script for cleaning names of columns (eg. no diacritics, lowercase, replace spaces with underscore, etc.)\n",
    "- From 'listing_details_import.ipynb' get script for importing scraped information about property\n",
    "- From 'listing_update.ipynb' get script for updating state of listing_id to be 'parsed = True'\n",
    "- After all get all the listing_ids and set upd_check_date to current date"
   ]
  },
  {
   "cell_type": "code",
   "execution_count": 0,
   "metadata": {
    "application/vnd.databricks.v1+cell": {
     "cellMetadata": {
      "byteLimit": 2048000,
      "rowLimit": 10000
     },
     "inputWidgets": {},
     "nuid": "08c0e122-e8d5-4ffc-aee3-ca4f26a4d14b",
     "showTitle": false,
     "tableResultSettingsMap": {},
     "title": ""
    },
    "jupyter": {
     "outputs_hidden": true
    }
   },
   "outputs": [],
   "source": [
    "import sys\n",
    "from pyspark.sql.functions import current_date\n",
    "\n",
    "# import functions\n",
    "%run \"./utils/clean_column_name.ipynb\"\n",
    "%run \"./utils/listing_details_import.ipynb\"\n",
    "%run \"./utils/listings_update.ipynb\"\n",
    "\n",
    "if df_parsed_details.count() > 0:\n",
    "    # Clean column names\n",
    "    df_parsed_details = clean_column_names(df_parsed_details)\n",
    "    df_parsed_images = clean_column_names(df_parsed_images)\n",
    "\n",
    "    # Export scraped data about property\n",
    "    row_count = export_to_table(df_parsed_details, output_table_name, insert_mode, \"listing_hash\")\n",
    "    images_count = export_to_table(df_parsed_images, output_images_table_name, insert_mode, \"images_hash\")\n",
    "\n",
    "    # Update all listing_ids with 'parsed = True'\n",
    "    df_parsed_details.createOrReplaceTempView(\"listing_ids_view\")\n",
    "    update_listings(input_table_name, 'parsed', process_id)\n",
    "\n",
    "    # Update input table with 'upd_check_date = current_date'\n",
    "    spark.sql(f\"\"\"    \n",
    "        UPDATE {input_table_name}\n",
    "            SET upd_check_date = current_date()\n",
    "            WHERE listing_id IN (SELECT listing_id FROM listing_ids_view) AND del_flag = false\n",
    "        \"\"\")\n",
    "else:\n",
    "    row_count = 0\n",
    "\n",
    "# Save row count\n",
    "dbutils.jobs.taskValues.set(\"row_count\", row_count)"
   ]
  }
 ],
 "metadata": {
  "application/vnd.databricks.v1+notebook": {
   "computePreferences": null,
   "dashboards": [],
   "environmentMetadata": {
    "base_environment": "",
    "environment_version": "2"
   },
   "inputWidgetPreferences": null,
   "language": "python",
   "notebookMetadata": {
    "mostRecentlyExecutedCommandWithImplicitDF": {
     "commandId": 7452526412662602,
     "dataframes": [
      "_sqldf"
     ]
    },
    "pythonIndentUnit": 4
   },
   "notebookName": "scraper_remax_detail",
   "widgets": {
    "process_id": {
     "currentValue": "0A",
     "nuid": "058e338b-b03a-4469-a44b-53f9e95a9cc1",
     "typedWidgetInfo": {
      "autoCreated": false,
      "defaultValue": "0Z",
      "label": null,
      "name": "process_id",
      "options": {
       "validationRegex": null,
       "widgetDisplayType": "Text"
      },
      "parameterDataType": "String"
     },
     "widgetInfo": {
      "defaultValue": "0Z",
      "label": null,
      "name": "process_id",
      "options": {
       "autoCreated": null,
       "validationRegex": null,
       "widgetType": "text"
      },
      "widgetType": "text"
     }
    },
    "scraper_name": {
     "currentValue": "remax",
     "nuid": "ad8ddf54-ec35-41b9-a154-0058eda70fcf",
     "typedWidgetInfo": {
      "autoCreated": false,
      "defaultValue": "remax",
      "label": null,
      "name": "scraper_name",
      "options": {
       "validationRegex": null,
       "widgetDisplayType": "Text"
      },
      "parameterDataType": "String"
     },
     "widgetInfo": {
      "defaultValue": "remax",
      "label": null,
      "name": "scraper_name",
      "options": {
       "autoCreated": null,
       "validationRegex": null,
       "widgetType": "text"
      },
      "widgetType": "text"
     }
    }
   }
  },
  "language_info": {
   "name": "python"
  }
 },
 "nbformat": 4,
 "nbformat_minor": 0
}
