{
 "cells": [
  {
   "cell_type": "markdown",
   "metadata": {
    "application/vnd.databricks.v1+cell": {
     "cellMetadata": {},
     "inputWidgets": {},
     "nuid": "bbbf4325-ebc6-4b8b-93d4-ef2b98ea5a8e",
     "showTitle": false,
     "tableResultSettingsMap": {},
     "title": ""
    }
   },
   "source": [
    "### Prepare environment"
   ]
  },
  {
   "cell_type": "code",
   "execution_count": 0,
   "metadata": {
    "application/vnd.databricks.v1+cell": {
     "cellMetadata": {
      "byteLimit": 2048000,
      "rowLimit": 10000
     },
     "inputWidgets": {},
     "nuid": "8cb1c55e-52b7-42e0-956c-1aa0f5a6f81b",
     "showTitle": false,
     "tableResultSettingsMap": {},
     "title": ""
    },
    "jupyter": {
     "outputs_hidden": true
    }
   },
   "outputs": [],
   "source": [
    "# Install required packages\n",
    "%pip install aiohttp>=3.8.0 aiofiles>=22.1.0 httpx>=0.24.0 selectolax>=0.3.0 nbformat>=5.1.0"
   ]
  },
  {
   "cell_type": "code",
   "execution_count": 0,
   "metadata": {
    "application/vnd.databricks.v1+cell": {
     "cellMetadata": {
      "byteLimit": 2048000,
      "rowLimit": 10000
     },
     "inputWidgets": {},
     "nuid": "f5ca0a63-b312-4510-97d1-4ee790d624cd",
     "showTitle": false,
     "tableResultSettingsMap": {},
     "title": ""
    }
   },
   "outputs": [],
   "source": [
    "dbutils.widgets.text(\"scraper_name\", \"idnes\")\n",
    "dbutils.widgets.text(\"process_id\", \"0Z\")\n",
    "\n",
    "scraper_name = dbutils.widgets.get(\"scraper_name\")\n",
    "input_table_name = f\"realitky.raw.listings_{scraper_name}\"\n",
    "output_table_name = f\"realitky.raw.listing_details_{scraper_name}\"\n",
    "output_images_table_name = f\"realitky.raw.listing_images_{scraper_name}\"\n",
    "\n",
    "process_id = dbutils.widgets.get(\"process_id\")\n",
    "insert_mode = \"append\""
   ]
  },
  {
   "cell_type": "markdown",
   "metadata": {
    "application/vnd.databricks.v1+cell": {
     "cellMetadata": {
      "byteLimit": 2048000,
      "rowLimit": 10000
     },
     "inputWidgets": {},
     "nuid": "d70fa0e0-7a82-46f0-996d-155ae802a17c",
     "showTitle": false,
     "tableResultSettingsMap": {},
     "title": ""
    }
   },
   "source": [
    "###Load data from table"
   ]
  },
  {
   "cell_type": "code",
   "execution_count": 0,
   "metadata": {
    "application/vnd.databricks.v1+cell": {
     "cellMetadata": {
      "byteLimit": 2048000,
      "rowLimit": 10000
     },
     "inputWidgets": {},
     "nuid": "669a8e3c-2a2c-462b-b7a4-2d991ba5fb23",
     "showTitle": false,
     "tableResultSettingsMap": {},
     "title": ""
    },
    "jupyter": {
     "outputs_hidden": true
    }
   },
   "outputs": [],
   "source": [
    "df = spark.sql(f\"SELECT listing_id, listing_url FROM {input_table_name} WHERE parsed = false AND del_flag = false\")\n",
    "display(df)"
   ]
  },
  {
   "cell_type": "markdown",
   "metadata": {
    "application/vnd.databricks.v1+cell": {
     "cellMetadata": {
      "byteLimit": 2048000,
      "rowLimit": 10000
     },
     "inputWidgets": {},
     "nuid": "7bf1eef4-947f-4041-b7af-0aa57cf80bec",
     "showTitle": false,
     "tableResultSettingsMap": {},
     "title": ""
    }
   },
   "source": [
    "###Prepare parsing script\n",
    "Contains:\n",
    "- details (dictionary) + listing_hash\n",
    "- images (list) + images_hash"
   ]
  },
  {
   "cell_type": "code",
   "execution_count": 0,
   "metadata": {
    "application/vnd.databricks.v1+cell": {
     "cellMetadata": {
      "byteLimit": 2048000,
      "rowLimit": 10000
     },
     "inputWidgets": {},
     "nuid": "c5d2c526-c7bd-4e2e-9689-9917ddb46575",
     "showTitle": false,
     "tableResultSettingsMap": {},
     "title": ""
    }
   },
   "outputs": [],
   "source": [
    "# Define async function to fetch property details\n",
    "import asyncio\n",
    "import httpx\n",
    "import hashlib\n",
    "import json\n",
    "from selectolax.parser import HTMLParser\n",
    "from pyspark.sql.types import StructType, StructField, StringType\n",
    "from typing import Optional, Dict\n",
    "\n",
    "class Scraper_details:\n",
    "    def extract_direct_image_url(self, next_image_url: str) -> str:\n",
    "        \"\"\"Extract direct image URL from Next.js image wrapper\"\"\"\n",
    "        try:\n",
    "            parsed_url = urlparse(next_image_url)\n",
    "            if parsed_url.path == '/_next/image' and 'url' in parse_qs(parsed_url.query):\n",
    "                # Extract the actual image URL from the 'url' parameter\n",
    "                direct_url = parse_qs(parsed_url.query)['url'][0]\n",
    "                return unquote(direct_url)\n",
    "            else:\n",
    "                # If it's not a Next.js wrapper, return as is\n",
    "                return next_image_url\n",
    "        except:\n",
    "            return next_image_url\n",
    "        \n",
    "    async def fetch_property_details(self, listing_id: str, listing_url: str) -> Optional[Dict]:\n",
    "        try:\n",
    "            # Download HTML content and parse it\n",
    "            url = listing_url\n",
    "            async with httpx.AsyncClient(follow_redirects=True, timeout=30.0) as client:\n",
    "                response = await client.get(url)\n",
    "                response.raise_for_status()\n",
    "                parser = HTMLParser(response.text)\n",
    "\n",
    "            # Define details as dict\n",
    "            details = {\n",
    "                \"listing_id\": str(listing_id),\n",
    "                \"listing_url\": str(listing_url)\n",
    "            }\n",
    "\n",
    "            # Extract property name\n",
    "            title_element = parser.css_first(\"h1.b-detail__title\")\n",
    "            if title_element:\n",
    "                details[\"Property Name\"] = str(title_element.text(strip=True))\n",
    "\n",
    "            # Extract property description\n",
    "            description_container = parser.css_first(\"div.b-desc.pt-10.mt-10\")\n",
    "            if description_container:\n",
    "                details[\"Property Description\"] = str(description_container.text(strip=True))\n",
    "\n",
    "            # Extract property price and basic details\n",
    "            price_container = parser.css_first(\"header.b-detail\")\n",
    "            if price_container:\n",
    "                strong = price_container.css_first(\"strong\")\n",
    "                details[\"Cena\"] = str(strong.text(strip=True)) if strong else \"XNA\"\n",
    "\n",
    "            # Extract price details\n",
    "            price_details = parser.css_first('div.wrapper-price-notes.color-grey.mb-5')\n",
    "            if price_details:\n",
    "                full_text = price_details.text(strip=True)\n",
    "                clean_text = full_text.replace(\"Poznámka k ceně:\", \"\").strip()\n",
    "                details[\"Price Details\"] = clean_text if clean_text else \"XNA\"\n",
    "            \n",
    "            # Extract property additional details\n",
    "            for definition in parser.css('div.b-definition.mb-0, div.b-definition-columns.mb-0'):\n",
    "                dts = definition.css('dt')\n",
    "                dds = definition.css('dd')\n",
    "                for dt, dd in zip(dts, dds):\n",
    "                    if 'advertisement' in dd.attributes.get('class', ''):\n",
    "                        continue\n",
    "                    label = str(dt.text(strip=True))\n",
    "                    value = ''.join([str(node.text(strip=True)) for node in dd.iter() if node.tag in ('#text')])\n",
    "                    if not value:\n",
    "                        value = str(dd.text(strip=True))\n",
    "                    details[label] = str(value)\n",
    "\n",
    "            # Extract property GPS coordinates\n",
    "            app_maps_div = parser.css_first('div#app-maps')\n",
    "            gps_found = False\n",
    "            if app_maps_div and \"data-last-center\" in app_maps_div.attributes:\n",
    "                try:\n",
    "                    last_center_json = app_maps_div.attributes[\"data-last-center\"]\n",
    "                    last_center = json.loads(last_center_json)\n",
    "                    lat = last_center.get(\"lat\")\n",
    "                    lng = last_center.get(\"lng\")\n",
    "                    if lat is not None and lng is not None:\n",
    "                        details[\"GPS coordinates\"] = str(f\"{lat},{lng}\")\n",
    "                        gps_found = True\n",
    "                    else:\n",
    "                        details[\"GPS coordinates\"] = \"XNA\"\n",
    "                except Exception as e:\n",
    "                    print(f\"Error parsing GPS from data-last-center: {e}\")\n",
    "\n",
    "            if not gps_found:\n",
    "                script = parser.css_first('script[type=\"application/json\"][data-maptiler-json]')\n",
    "                if script and script.text():\n",
    "                    try:\n",
    "                        data = json.loads(script.text())\n",
    "                        features = data.get(\"geojson\", {}).get(\"features\", [])\n",
    "                        for feature in features:\n",
    "                            props = feature.get(\"properties\", {})\n",
    "                            if not props.get(\"isSimilar\", False):\n",
    "                                coords = feature.get(\"geometry\", {}).get(\"coordinates\", [])\n",
    "                                if isinstance(coords, list) and len(coords) == 2:\n",
    "                                    details[\"GPS coordinates\"] = str(f\"{coords[1]},{coords[0]}\")\n",
    "                                    gps_found = True\n",
    "                                    break\n",
    "                    except Exception as e:\n",
    "                        print(f\"Error parsing GPS from script: {e}\")\n",
    "            \n",
    "            # Set status\n",
    "            if title_element:\n",
    "                details[\"Status\"] = 'active'\n",
    "            else:\n",
    "                details[\"Status\"] = 'inactive'\n",
    "\n",
    "            # Generate hash\n",
    "            hash_input = {k: v for k, v in details.items() if k not in [\"listing_hash\", \"ins_dt\"]}\n",
    "            listing_hash = hashlib.sha256(str(sorted(hash_input.items())).encode()).hexdigest()\n",
    "            details[\"listing_hash\"] = str(listing_hash)\n",
    "\n",
    "            #######################\n",
    "            ##### -- IMAGES -- ####\n",
    "            #######################\n",
    "            \n",
    "            # Extract property images from carousel\n",
    "            images = []\n",
    "            \n",
    "            # Look for carousel slides (slick-slide elements)\n",
    "            images_container = parser.css(\"div.carousel__list a.carousel__item\")\n",
    "            \n",
    "            if images_container:\n",
    "                for img_number, slide in enumerate(images_container, 1):\n",
    "                    img_element = slide.css_first(\"img\")\n",
    "                    if img_element:\n",
    "                        # Try data-lazy first (for lazy-loaded images), then src\n",
    "                        src = img_element.attributes.get(\"data-lazy\") or img_element.attributes.get(\"src\")\n",
    "                        \n",
    "                        if src and not src.endswith(\"no-image-gallery.png\"):\n",
    "                            # Handle relative URLs\n",
    "                            if src.startswith(\"//\"):\n",
    "                                src = \"https:\" + src\n",
    "                            elif src.startswith(\"/\"):\n",
    "                                src = \"https://www.reality.idnes.cz\" + src\n",
    "                            \n",
    "                            # Create image record\n",
    "                            image_record = {\n",
    "                                \"listing_id\": str(listing_id),\n",
    "                                \"img_number\": img_number,\n",
    "                                \"img_link\": str(src)\n",
    "                            }\n",
    "                            images.append(image_record)\n",
    "            \n",
    "            # If still no images found, create empty record\n",
    "            if not images:\n",
    "                image_record = {\n",
    "                    \"listing_id\": str(listing_id),\n",
    "                    \"img_number\": None,\n",
    "                    \"img_link\": None\n",
    "                }\n",
    "                images.append(image_record)\n",
    "            \n",
    "            # Generate images_hash\n",
    "            image_hash_input = str(sorted([sorted(img.items()) for img in images]))\n",
    "            images_hash = hashlib.sha256(image_hash_input.encode()).hexdigest()\n",
    "            for image_record in images:\n",
    "                image_record[\"images_hash\"] = str(images_hash)\n",
    "            \n",
    "            print(f\"Found {len(images)} images for listing {listing_id}\")\n",
    "            return details, images\n",
    "\n",
    "        except Exception as e:\n",
    "            print(f\"Error parsing {listing_id}: {e}\")\n",
    "            return None, []"
   ]
  },
  {
   "cell_type": "markdown",
   "metadata": {
    "application/vnd.databricks.v1+cell": {
     "cellMetadata": {},
     "inputWidgets": {},
     "nuid": "5547b7c2-4de8-4ec8-85bd-ba97786d34f2",
     "showTitle": false,
     "tableResultSettingsMap": {},
     "title": ""
    }
   },
   "source": [
    "### Execute parsing\n",
    "- Run the parsing script to extract relevant data from the raw input.\n",
    "- Ensure all required fields are captured and formatted correctly.\n",
    "- Log any errors or missing data for review."
   ]
  },
  {
   "cell_type": "code",
   "execution_count": 0,
   "metadata": {
    "application/vnd.databricks.v1+cell": {
     "cellMetadata": {
      "byteLimit": 2048000,
      "rowLimit": 10000
     },
     "inputWidgets": {},
     "nuid": "47b38afa-7b40-4504-84e5-5f12439538a0",
     "showTitle": false,
     "tableResultSettingsMap": {},
     "title": ""
    },
    "jupyter": {
     "outputs_hidden": true
    }
   },
   "outputs": [],
   "source": [
    "# Execute the async function\n",
    "print(f\"Found {df.count()} listings\")\n",
    "if df.count() > 0:\n",
    "    scraper = Scraper_details()\n",
    "    results = await asyncio.gather(*[scraper.fetch_property_details(row.listing_id, row.listing_url) for row in df.collect()])\n",
    "    \n",
    "    # Separate details and images\n",
    "    parsed_details = [result[0] for result in results if result[0] is not None] # results = [0, 1]\n",
    "    parsed_images = []\n",
    "    for result in results:\n",
    "        if result[1]:\n",
    "            parsed_images.extend(result[1])\n",
    "    \n",
    "    print(f\"Scraped {len(parsed_details)} listings with {len(parsed_images)} total images\")\n",
    "    \n",
    "    # Create DataFrames\n",
    "    if parsed_details:\n",
    "        df_parsed_details = spark.createDataFrame(parsed_details)\n",
    "    else:\n",
    "        schema = StructType([\n",
    "            StructField(\"listing_id\", StringType(), True),\n",
    "            StructField(\"listing_url\", StringType(), True)\n",
    "        ])\n",
    "        df_parsed_details = spark.createDataFrame([], schema)\n",
    "    \n",
    "    if parsed_images:\n",
    "        df_parsed_images = spark.createDataFrame(parsed_images)\n",
    "    else:\n",
    "        images_schema = StructType([\n",
    "            StructField(\"listing_id\", StringType(), True),\n",
    "            StructField(\"img_number\", StringType(), True),\n",
    "            StructField(\"img_link\", StringType(), True)\n",
    "        ])\n",
    "        df_parsed_images = spark.createDataFrame([], images_schema)\n",
    "\n",
    "print(\"--- DETAILS ---\")\n",
    "display(df_parsed_details)\n",
    "print(\"--- IMAGES ---\")\n",
    "display(df_parsed_images)"
   ]
  },
  {
   "cell_type": "markdown",
   "metadata": {
    "application/vnd.databricks.v1+cell": {
     "cellMetadata": {
      "byteLimit": 2048000,
      "rowLimit": 10000
     },
     "inputWidgets": {},
     "nuid": "0c2dd550-0c60-4c90-97a8-47126e0f3b36",
     "showTitle": false,
     "tableResultSettingsMap": {},
     "title": ""
    }
   },
   "source": [
    "###Export data and update stats\n",
    "- From 'clean_column_name.ipynb. get script for cleaning names of columns (eg. no diacritics, lowercase, replace spaces with underscore, etc.)\n",
    "- From 'listing_details_import.ipynb' get script for importing scraped information about property\n",
    "- From 'listing_update.ipynb' get script for updating state of listing_id to be 'parsed = True'\n",
    "- After all get all the listing_ids and set upd_check_date to current date"
   ]
  },
  {
   "cell_type": "code",
   "execution_count": 0,
   "metadata": {
    "application/vnd.databricks.v1+cell": {
     "cellMetadata": {
      "byteLimit": 2048000,
      "rowLimit": 10000
     },
     "inputWidgets": {},
     "nuid": "08c0e122-e8d5-4ffc-aee3-ca4f26a4d14b",
     "showTitle": false,
     "tableResultSettingsMap": {},
     "title": ""
    },
    "jupyter": {
     "outputs_hidden": true
    }
   },
   "outputs": [],
   "source": [
    "import sys\n",
    "from pyspark.sql.functions import current_date\n",
    "\n",
    "# import functions\n",
    "%run \"./utils/clean_column_name.ipynb\"\n",
    "%run \"./utils/listing_details_import.ipynb\"\n",
    "%run \"./utils/listings_update.ipynb\"\n",
    "\n",
    "if df_parsed_details.count() > 0:\n",
    "    # Clean column names\n",
    "    df_parsed_details = clean_column_names(df_parsed_details)\n",
    "    df_parsed_images = clean_column_names(df_parsed_images)\n",
    "\n",
    "    # Export scraped data about property\n",
    "    row_count = export_to_table(df_parsed_details, output_table_name, insert_mode, \"listing_hash\")\n",
    "    images_count = export_to_table(df_parsed_images, output_images_table_name, insert_mode, \"images_hash\")\n",
    "\n",
    "    # Update all listing_ids with 'parsed = True'\n",
    "    df_parsed_details.createOrReplaceTempView(\"listing_ids_view\")\n",
    "    update_listings(input_table_name, 'parsed', process_id)\n",
    "\n",
    "    # Update input table with 'upd_check_date = current_date'\n",
    "    spark.sql(f\"\"\"    \n",
    "        UPDATE {input_table_name}\n",
    "            SET upd_check_date = current_date()\n",
    "            WHERE listing_id IN (SELECT listing_id FROM listing_ids_view) AND del_flag = false\n",
    "        \"\"\")\n",
    "else:\n",
    "    row_count = 0\n",
    "\n",
    "# Save row count\n",
    "dbutils.jobs.taskValues.set(\"row_count\", row_count)"
   ]
  }
 ],
 "metadata": {
  "application/vnd.databricks.v1+notebook": {
   "computePreferences": null,
   "dashboards": [],
   "environmentMetadata": {
    "base_environment": "",
    "environment_version": "2"
   },
   "inputWidgetPreferences": null,
   "language": "python",
   "notebookMetadata": {
    "mostRecentlyExecutedCommandWithImplicitDF": {
     "commandId": 7452526412662602,
     "dataframes": [
      "_sqldf"
     ]
    },
    "pythonIndentUnit": 4
   },
   "notebookName": "scraper_idnes_detail",
   "widgets": {
    "process_id": {
     "currentValue": "0Z",
     "nuid": "7d4c0b2d-c7a1-4ded-8770-43b2fa732958",
     "typedWidgetInfo": {
      "autoCreated": false,
      "defaultValue": "0Z",
      "label": null,
      "name": "process_id",
      "options": {
       "validationRegex": null,
       "widgetDisplayType": "Text"
      },
      "parameterDataType": "String"
     },
     "widgetInfo": {
      "defaultValue": "0Z",
      "label": null,
      "name": "process_id",
      "options": {
       "autoCreated": null,
       "validationRegex": null,
       "widgetType": "text"
      },
      "widgetType": "text"
     }
    },
    "scraper_name": {
     "currentValue": "idnes",
     "nuid": "ea99d85a-e0b2-4e18-aad2-8c4a86effa5a",
     "typedWidgetInfo": {
      "autoCreated": false,
      "defaultValue": "idnes",
      "label": null,
      "name": "scraper_name",
      "options": {
       "validationRegex": null,
       "widgetDisplayType": "Text"
      },
      "parameterDataType": "String"
     },
     "widgetInfo": {
      "defaultValue": "idnes",
      "label": null,
      "name": "scraper_name",
      "options": {
       "autoCreated": null,
       "validationRegex": null,
       "widgetType": "text"
      },
      "widgetType": "text"
     }
    }
   }
  },
  "language_info": {
   "name": "python"
  }
 },
 "nbformat": 4,
 "nbformat_minor": 0
}
