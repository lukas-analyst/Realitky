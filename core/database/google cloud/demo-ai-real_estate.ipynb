{
 "cells": [
  {
   "cell_type": "code",
   "execution_count": null,
   "id": "c38b1795-e897-490c-afb3-a7ff1812bc25",
   "metadata": {
    "tags": []
   },
   "outputs": [],
   "source": [
    "# Install the necessary library to interact with BigQuery\n",
    "%pip install pandas-gbq\n",
    "%pip install --upgrade google-genai"
   ]
  },
  {
   "cell_type": "code",
   "execution_count": null,
   "id": "748a1ff2-bbe9-4dcf-8e70-b04c1dc34a34",
   "metadata": {
    "tags": []
   },
   "outputs": [],
   "source": [
    "import pandas_gbq\n",
    "import bigframes.pandas as bf\n",
    "import os"
   ]
  },
  {
   "cell_type": "code",
   "execution_count": null,
   "id": "6a492950-bbc9-4313-bfeb-ab4430202681",
   "metadata": {
    "tags": []
   },
   "outputs": [],
   "source": [
    "service_account = \"demo-real-estate@adcz-adoki-poc.iam.gserviceaccount.com\""
   ]
  },
  {
   "cell_type": "markdown",
   "id": "66009384-5d12-4b9b-b542-1ca0e50333c6",
   "metadata": {},
   "source": [
    "### Get data from BigQuery\n",
    "- using local/Workbanch computing"
   ]
  },
  {
   "cell_type": "code",
   "execution_count": null,
   "id": "401f3b5c-c6c3-4856-bd80-19bd75b010cf",
   "metadata": {},
   "outputs": [],
   "source": [
    "# Use local computing power\n",
    "sql = \"SELECT * FROM demo_real_estate.property\"\n",
    "df_property = bf.read_gbq(sql)\n",
    "\n",
    "# display(df_property.head())"
   ]
  },
  {
   "cell_type": "code",
   "execution_count": null,
   "id": "625952d0-f7ee-4d71-a541-acf7a0163616",
   "metadata": {
    "tags": []
   },
   "outputs": [],
   "source": [
    "# Use local computing power\n",
    "sql = \"SELECT * FROM demo_real_estate.property_type\"\n",
    "df_type = bf.read_gbq(sql)\n",
    "\n",
    "# display(df_type.head())"
   ]
  },
  {
   "cell_type": "markdown",
   "id": "62f6850d-064b-4337-86cb-1b12279f3de6",
   "metadata": {},
   "source": [
    "### Filter data"
   ]
  },
  {
   "cell_type": "code",
   "execution_count": null,
   "id": "fc828155-a556-41e6-83e3-034eac068679",
   "metadata": {
    "tags": []
   },
   "outputs": [],
   "source": [
    "# Merge\n",
    "merged_df = df_property.merge(df_type, left_on='property_type_id', right_on='property_type_key', how='left')\n",
    "\n",
    "# Filtr\n",
    "filter_df = merged_df[merged_df['type_name'].str.lower() == 'byt']\n",
    "\n",
    "# Final filter\n",
    "final_df = filter_df[['property_id', 'description']].head(10)\n",
    "\n",
    "display(final_df)"
   ]
  },
  {
   "cell_type": "markdown",
   "id": "477ca88b-a41b-48b3-ba73-74e4403497b9",
   "metadata": {},
   "source": [
    "### Define Gemini prompt-description fc"
   ]
  },
  {
   "cell_type": "code",
   "execution_count": null,
   "id": "11dbe43c-8cda-4aa5-bf3e-d5ed3b4574d3",
   "metadata": {
    "tags": []
   },
   "outputs": [],
   "source": [
    "from google import genai\n",
    "from google.genai import types\n",
    "import base64\n",
    "\n",
    "def call_ai(description):\n",
    "  client = genai.Client(\n",
    "      vertexai=True,\n",
    "      project=\"adcz-adoki-poc\",\n",
    "      location=\"global\",\n",
    "  )\n",
    "\n",
    "  prompt = description if description is not None else \"\"\n",
    "\n",
    "  msg1_text1 = types.Part.from_text(text=f\"\"\"{prompt}\"\"\")\n",
    "  si_text1 = \"\"\"You will be provided with description of a property that is listed on a real-estate website. Only print the size of the property in square meters. If not provided print 'None'\"\"\"\n",
    "\n",
    "  model = \"gemini-2.5-flash-lite\"\n",
    "  contents = [\n",
    "    types.Content(\n",
    "      role=\"user\",\n",
    "      parts=[\n",
    "        msg1_text1\n",
    "      ]\n",
    "    ),\n",
    "  ]\n",
    "\n",
    "  generate_content_config = types.GenerateContentConfig(\n",
    "    temperature = 0,\n",
    "    top_p = 0.95,\n",
    "    max_output_tokens = 1000,\n",
    "    safety_settings = [types.SafetySetting(\n",
    "      category=\"HARM_CATEGORY_HATE_SPEECH\",\n",
    "      threshold=\"OFF\"\n",
    "    ),types.SafetySetting(\n",
    "      category=\"HARM_CATEGORY_DANGEROUS_CONTENT\",\n",
    "      threshold=\"OFF\"\n",
    "    ),types.SafetySetting(\n",
    "      category=\"HARM_CATEGORY_SEXUALLY_EXPLICIT\",\n",
    "      threshold=\"OFF\"\n",
    "    ),types.SafetySetting(\n",
    "      category=\"HARM_CATEGORY_HARASSMENT\",\n",
    "      threshold=\"OFF\"\n",
    "    )],\n",
    "    system_instruction=[types.Part.from_text(text=si_text1)],\n",
    "    thinking_config=types.ThinkingConfig(\n",
    "      thinking_budget=0,\n",
    "    ),\n",
    "  )\n",
    "\n",
    "  collected = []\n",
    "  for chunk in client.models.generate_content_stream(\n",
    "    model = model,\n",
    "    contents = contents,\n",
    "    config = generate_content_config,\n",
    "    ):\n",
    "    if chunk.text:\n",
    "      print(chunk.text, end=\"\")\n",
    "      collected.append(chunk.text)\n",
    "\n",
    "  result = ''.join(collected).strip()\n",
    "  return result if result else None"
   ]
  },
  {
   "cell_type": "markdown",
   "id": "a2f00eb5-6a49-4850-af25-fc12abef4de1",
   "metadata": {
    "tags": []
   },
   "source": [
    "### Call the fc and get results"
   ]
  },
  {
   "cell_type": "code",
   "execution_count": null,
   "id": "5dc3c658-7569-4bdb-a5f6-1858b36945ba",
   "metadata": {
    "tags": []
   },
   "outputs": [],
   "source": [
    "final_df_local = final_df.to_pandas()  # materiálizace do paměti (pozor na velikost!)\n",
    "final_df_local['property_size'] = final_df_local['description'].apply(call_ai)\n",
    "\n",
    "display(final_df_local)"
   ]
  }
 ],
 "metadata": {
  "environment": {
   "kernel": "conda-base-py",
   "name": "workbench-notebooks.m131",
   "type": "gcloud",
   "uri": "us-docker.pkg.dev/deeplearning-platform-release/gcr.io/workbench-notebooks:m131"
  },
  "kernelspec": {
   "display_name": "Python 3 (ipykernel) (Local)",
   "language": "python",
   "name": "conda-base-py"
  },
  "language_info": {
   "codemirror_mode": {
    "name": "ipython",
    "version": 3
   },
   "file_extension": ".py",
   "mimetype": "text/x-python",
   "name": "python",
   "nbconvert_exporter": "python",
   "pygments_lexer": "ipython3",
   "version": "3.10.18"
  }
 },
 "nbformat": 4,
 "nbformat_minor": 5
}
