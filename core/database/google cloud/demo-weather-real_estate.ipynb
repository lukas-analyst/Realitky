{
 "cells": [
  {
   "cell_type": "code",
   "execution_count": null,
   "id": "c38b1795-e897-490c-afb3-a7ff1812bc25",
   "metadata": {
    "tags": []
   },
   "outputs": [],
   "source": [
    "# Install required libraries for BigQuery and HTTP requests\n",
    "%pip install pandas-gbq google-cloud-bigquery requests"
   ]
  },
  {
   "cell_type": "code",
   "execution_count": null,
   "id": "748a1ff2-bbe9-4dcf-8e70-b04c1dc34a34",
   "metadata": {
    "tags": []
   },
   "outputs": [],
   "source": [
    "import pandas_gbq\n",
    "import pandas as pd\n",
    "import time\n",
    "import requests\n",
    "import os\n",
    "from datetime import datetime, timedelta\n",
    "from google.cloud import bigquery"
   ]
  },
  {
   "cell_type": "code",
   "execution_count": null,
   "id": "19ba6cf7",
   "metadata": {},
   "outputs": [],
   "source": [
    "# Google Cloud Project\n",
    "project_id = \"adcz-adoki-poc\"\n",
    "os.environ[\"GOOGLE_CLOUD_PROJECT\"] = project_id\n",
    "\n",
    "print(\"project_id =\", project_id)"
   ]
  },
  {
   "cell_type": "markdown",
   "id": "66009384-5d12-4b9b-b542-1ca0e50333c6",
   "metadata": {},
   "source": [
    "### Get data from BigQuery\n",
    "- using local/Workbanch computing"
   ]
  },
  {
   "cell_type": "code",
   "execution_count": null,
   "id": "401f3b5c-c6c3-4856-bd80-19bd75b010cf",
   "metadata": {},
   "outputs": [],
   "source": [
    "# Use local computing power\n",
    "sql = \"SELECT property_id, address_latitude, address_longitude FROM demo_real_estate.property WHERE address_latitude > 0 LIMIT 10\"\n",
    "df_property = pandas_gbq.read_gbq(sql, project_id=project_id)\n",
    "\n",
    "display(df_property)"
   ]
  },
  {
   "cell_type": "markdown",
   "id": "2504687b",
   "metadata": {},
   "source": [
    "### Historické počasí (včerejšek) pro GPS souřadnice\n",
    "Získáme denní metriky (max/min teplota, srážky) z Open-Meteo Archive API pro datum včera (časová zóna Europe/Prague)."
   ]
  },
  {
   "cell_type": "code",
   "execution_count": null,
   "id": "be91f880",
   "metadata": {},
   "outputs": [],
   "source": [
    "# Fetch historical hourly weather for property coordinates using Open-Meteo API\n",
    "import time\n",
    "import requests\n",
    "from datetime import datetime, timedelta\n",
    "import pandas as pd\n",
    "\n",
    "# Prepare unique coordinates from the property DataFrame\n",
    "coords_df = df_property[['address_latitude', 'address_longitude']].dropna().drop_duplicates().rename(columns={\n",
    "    'address_latitude': 'lat',\n",
    "    'address_longitude': 'lon'\n",
    "})\n",
    "\n",
    "# Define hourly weather parameters to fetch\n",
    "hourly_params = [\n",
    "    'temperature_2m',\n",
    "    'relative_humidity_2m',\n",
    "    'rain',\n",
    "    'snowfall',\n",
    "    'snow_depth',\n",
    "    'windspeed_10m'\n",
    " ]\n",
    "\n",
    "results = []\n",
    "BASE_URL = \"https://archive-api.open-meteo.com/v1/archive\"\n",
    "target_date = (datetime.now() - timedelta(days=2)).date()\n",
    "\n",
    "for row in coords_df.itertuples(index=False):\n",
    "    lat, lon = row.lat, row.lon\n",
    "    params = {\n",
    "        'latitude': lat,\n",
    "        'longitude': lon,\n",
    "        'start_date': target_date,\n",
    "        'end_date': target_date,\n",
    "        'hourly': ','.join(hourly_params),\n",
    "        'timezone': 'Europe/Prague'\n",
    "    }\n",
    "    try:\n",
    "        r = requests.get(BASE_URL, params=params, timeout=60)\n",
    "        r.raise_for_status()\n",
    "        data = r.json()\n",
    "        hourly = data.get('hourly', {})\n",
    "        times = hourly.get('time', [])\n",
    "\n",
    "        for i, ts in enumerate(times):\n",
    "            try:\n",
    "                date_part, time_part = ts.split('T')\n",
    "                hour_part = int(time_part.split(':')[0])\n",
    "                record = {\n",
    "                    'lat': lat,\n",
    "                    'lon': lon,\n",
    "                    'date': date_part,\n",
    "                    'hour': hour_part,\n",
    "                    'temperature': hourly.get('temperature_2m', [None]*len(times))[i],\n",
    "                    'relative_humidity': hourly.get('relative_humidity_2m', [None]*len(times))[i],\n",
    "                    'rain': hourly.get('rain', [None]*len(times))[i],\n",
    "                    'wind_speed': hourly.get('windspeed_10m', [None]*len(times))[i],\n",
    "                    'snow_depth': None\n",
    "                }\n",
    "                # Prefer snow_depth, fallback to snowfall\n",
    "                snow_depth_val = hourly.get('snow_depth', [None]*len(times))[i]\n",
    "                snowfall_val = hourly.get('snowfall', [None]*len(times))[i]\n",
    "                record['snow_depth'] = snow_depth_val if snow_depth_val is not None else snowfall_val\n",
    "\n",
    "                results.append(record)\n",
    "            except Exception:\n",
    "                continue\n",
    "        time.sleep(0.15)  # Be gentle to the API\n",
    "    except Exception as e:\n",
    "        print(f\"Error fetching weather for {lat},{lon}: {e}\")\n",
    "\n",
    "weather_df = pd.DataFrame(results)\n",
    "\n",
    "# Map property_id to coordinates (many properties may share the same coordinates)\n",
    "prop_coord_map = df_property[['property_id', 'address_latitude', 'address_longitude']].dropna()\n",
    "\n",
    "# Merge weather data with property IDs\n",
    "merged = weather_df.merge(\n",
    "    prop_coord_map,\n",
    "    left_on=['lat', 'lon'],\n",
    "    right_on=['address_latitude', 'address_longitude'],\n",
    "    how='left'\n",
    " )\n",
    "\n",
    "# Select and rename columns for final DataFrame\n",
    "final_weather_df = merged[['property_id', 'date', 'hour', 'temperature', 'relative_humidity', 'rain', 'snow_depth', 'wind_speed']].copy()\n",
    "\n",
    "if not final_weather_df.empty:\n",
    "    final_weather_df['hour'] = final_weather_df['hour'].astype(int)\n",
    "\n",
    "print(f\"Total hourly weather records: {len(final_weather_df)}\")\n",
    "display(final_weather_df.head(30))"
   ]
  },
  {
   "cell_type": "markdown",
   "id": "832a5d78",
   "metadata": {},
   "source": [
    "### Import do BigQuery\n",
    "Target tabulka: 'property_weather'\n",
    "- if does not exist then create one"
   ]
  },
  {
   "cell_type": "code",
   "execution_count": null,
   "id": "5364b40c",
   "metadata": {},
   "outputs": [],
   "source": [
    "# Add metadata columns before importing to BigQuery\n",
    "from datetime import datetime\n",
    "process_id = \"manual\"  # Set as needed or load from variable/notebook\n",
    "now = datetime.utcnow()\n",
    "final_weather_df[\"ins_dt\"] = now\n",
    "final_weather_df[\"ins_process_id\"] = process_id\n",
    "final_weather_df[\"upd_dt\"] = now\n",
    "final_weather_df[\"upd_process_id\"] = process_id\n",
    "final_weather_df[\"del_flag\"] = False\n",
    "\n",
    "# Ensure 'date' column is of type datetime.date\n",
    "import pandas as pd\n",
    "if \"date\" in final_weather_df.columns:\n",
    "    final_weather_df[\"date\"] = pd.to_datetime(final_weather_df[\"date\"]).dt.date\n",
    "\n",
    "# Import to BigQuery\n",
    "from google.cloud import bigquery\n",
    "project_id = \"adcz-adoki-poc\"\n",
    "dataset_id = \"demo_real_estate\"\n",
    "table_id = \"property_weather\"\n",
    "full_table_id = f\"{project_id}.{dataset_id}.{table_id}\"\n",
    "\n",
    "client = bigquery.Client(project=project_id)\n",
    "job_config = bigquery.LoadJobConfig(write_disposition=bigquery.WriteDisposition.WRITE_APPEND)\n",
    "client.load_table_from_dataframe(final_weather_df, full_table_id, job_config=job_config).result()\n",
    "print(\"Data successfully uploaded to BigQuery.\")"
   ]
  }
 ],
 "metadata": {
  "environment": {
   "kernel": "conda-base-py",
   "name": "workbench-notebooks.m131",
   "type": "gcloud",
   "uri": "us-docker.pkg.dev/deeplearning-platform-release/gcr.io/workbench-notebooks:m131"
  },
  "kernelspec": {
   "display_name": "Python 3 (ipykernel) (Local)",
   "language": "python",
   "name": "conda-base-py"
  },
  "language_info": {
   "codemirror_mode": {
    "name": "ipython",
    "version": 3
   },
   "file_extension": ".py",
   "mimetype": "text/x-python",
   "name": "python",
   "nbconvert_exporter": "python",
   "pygments_lexer": "ipython3",
   "version": "3.10.18"
  }
 },
 "nbformat": 4,
 "nbformat_minor": 5
}
